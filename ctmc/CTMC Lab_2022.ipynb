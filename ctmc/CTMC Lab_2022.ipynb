{
 "cells": [
  {
   "cell_type": "code",
   "execution_count": 10,
   "metadata": {},
   "outputs": [],
   "source": [
    "import numpy as np\n",
    "import scipy.linalg"
   ]
  },
  {
   "cell_type": "code",
   "execution_count": 11,
   "metadata": {},
   "outputs": [],
   "source": [
    "# Utilities:\n",
    "\n",
    "def are_geq_0(t):\n",
    "    \"\"\"Check if all the elements of the array t are >= 0\"\"\"\n",
    "    for elem in t:\n",
    "        if elem < 0: return False\n",
    "    return True\n",
    "\n",
    "def is_well_defined(infinitesimal_generator):\n",
    "    \"\"\"Check if the infinitesimal generator is well defined, i.e. every row sums up to zero.\"\"\"\n",
    "    threshold = 1e-10\n",
    "    for transitions in infinitesimal_generator:\n",
    "        if abs(sum(transitions)) > threshold:\n",
    "            return False\n",
    "    return True\n",
    "\n",
    "def sample_discrete(N,p):\n",
    "    \"\"\"Computes N samples from discrete probability vector p\"\"\"\n",
    "    n = len(p)\n",
    "    S = np.cumsum(p)\n",
    "    U = np.random.uniform(low=0.0, high=1.0, size=N)\n",
    "    sampled_indexes = np.empty(N)\n",
    "    for j in range(N):\n",
    "        for i in range(n):\n",
    "            if S[i] > U[j]:\n",
    "                sampled_indexes[j] = i\n",
    "                break\n",
    "    if N == 1:\n",
    "        return int(sampled_indexes[0])\n",
    "\n",
    "    return sampled_indexes.astype(int)"
   ]
  },
  {
   "cell_type": "markdown",
   "metadata": {},
   "source": [
    "# CTMC\n",
    "\n",
    "A CTMC is a continuous-time stochastic process $\\{X(t),t\\ge 0\\}$ defined on a finite state space with Markov property at each time $t\\ge 0$. Finite-state CTMC spends an **exponentially distributed** amount of time in a given state before jumping out of it. Thus *exponential distributions* play an important role in CTMCs. \n",
    "\n",
    "\n",
    "## 1. Exponential distribution\n",
    "Recall that for an exponential random variable $T\\sim Exp(\\lambda)$:\n",
    "- $E[T] = \\frac{1}{\\lambda}$ and\n",
    "- $Var[T] = \\frac{1}{\\lambda^2}$."
   ]
  },
  {
   "cell_type": "markdown",
   "metadata": {},
   "source": [
    "#### Exercise 1.1. Time to failure:\n",
    "\n",
    "Suppose a new machine is put into operation at\n",
    "time zero. Its lifetime is known to be an $Exp(\\lambda)$ random variable with $\\lambda = 0.1$ [1/hour].\n",
    "What is the probability that the machine will give trouble-free service continuously for 1 day? Suppose the machine has not failed by the end of the first day. What is the probability that it will give trouble-free service for the whole of the next day?"
   ]
  },
  {
   "cell_type": "markdown",
   "metadata": {},
   "source": [
    "What is the probability that the machine will give trouble-free service continuously for 1 day? \n",
    "<br>It is $$P(x > 24h) = 1 - P(x < 24h) = 1 - (1 - e^{-\\lambda*24}) = 0.09$$\n",
    "<br><br>\n",
    "Suppose the machine has not failed by the end of the first day. What is the probability that it will give trouble-free service for the whole of the next day?\n",
    "<br>Thanks to the memoryless property, it is $$P(x > 48h \\ | \\ x > 24h) = P(x > 24h \\ + \\ 24h \\ | \\ x > 24h) = P(x > 24h) = 0.09$$"
   ]
  },
  {
   "cell_type": "markdown",
   "metadata": {},
   "source": [
    "### The minimum of independent exponential r.v.\n",
    "\n",
    "Let $T_i$ be an $Exp(\\lambda_i)$ random variable $(1\\le i\\le k)$, we can think of $T_i$ as the time when an event of type $i$ occurs and suppose $T_1, T_2,\\dots , T_k$ are\n",
    "independent. The r.v. $T = \\min\\{T_1, T_2,\\dots , T_k\\}$, representing the\n",
    "time when the first of these k events occurs, is an exponential r.v. with $\\lambda = \\sum_{i=1}^k \\lambda_i$."
   ]
  },
  {
   "cell_type": "markdown",
   "metadata": {},
   "source": [
    "#### Exercise 1.2. Hospital:\n",
    "\n",
    "A hospital currently has\n",
    "seven pregnant women waiting to give birth. Three of them are expected to\n",
    "give birth to boys, and the remaining four are expected to give birth to girls.\n",
    "From prior experience, the hospital staff knows that a mother spends on average 6 hours in the hospital before delivering a boy and 5 hours before delivering\n",
    "a girl. Assume that these times are independent and exponentially distributed.\n",
    "What is the probability that the first baby born is a boy and is born in the next\n",
    "hour?"
   ]
  },
  {
   "cell_type": "markdown",
   "metadata": {},
   "source": [
    "Let's define $K = argmin_k(T_k)$. We have that $P(K = k) = \\frac{\\lambda_k}{\\lambda}$, $P(T < t) = \\lambda e^{-\\lambda t}$. Since K and T are independent, we have that $$P(K = k, T < t) = P(K = k)P(T < t)$$\n",
    "<br>\n",
    "<br>\n",
    "If we set that $k \\ = \\ 0, \\ 1, \\ 2$ indicates the pregnant moms of a boy and $k \\ = \\ 3,\\ 4,\\ 5,\\ 6$ are the pregnant moms of girls, we have that $E[T_k] = 6 \\Rightarrow \\lambda_k = \\frac{1}{6}$ for $k \\ = \\ 0,\\ 1,\\ 2$, while we have $E[T_k] = 5 \\Rightarrow \\lambda_k = \\frac{1}{5}$ for $k \\ = \\ 3, \\ 4, \\ 5, \\ 6$. \n",
    "<br>\n",
    "Moreover, we have that $\\lambda = \\frac{3}{6} + \\frac{4}{5} = \\frac{13}{10}$\n",
    "<br><br>\n",
    "What is the probability that the first baby born is a boy and is born in the next hour?\n",
    "<br>\n",
    "It is $$P((K \\ = \\ 0 \\ or \\ K \\ = \\ 1 \\ or \\ K \\ = \\ 2 \\ ) \\ and \\ T \\ < \\ 1) = \\frac{\\sum_{k=0}^2\\lambda_k}{\\lambda} (1 - e^{-\\lambda}) = \\frac{3}{5}\\frac{10}{13} (1 - e^{-\\frac{13}{10}}) = 0.34$$"
   ]
  },
  {
   "cell_type": "markdown",
   "metadata": {},
   "source": [
    "## 2. CTMC\n",
    "Let $X(t)$ be the state of a system at time t. \n",
    "\n",
    "Random evolution of the system: suppose the system starts in state i. It stays there for an $Exp(q_i)$ amount of time, called the *sojourn time in state i*. At the end of the sojourn time in\n",
    "state i, the system makes a sudden transition to state $j\\ne i$ with probability $\\pi_{i,j}$,\n",
    "independent of how long the system has been in state i. In case state i is absorbing we set $q_i=0$.\n",
    "\n",
    "Analogously to DTMCs, a CTMC can also be represented graphically by means\n",
    "of a directed graph: the directed graph has one node for\n",
    "each state. There is a directed arc from node i to node j if $\\pi_{i,j} > 0$. The quantity\n",
    "$q_{i,j}= q_i \\pi_{i,j}$, called the transition rate from i to j, is written next to this arc. Note that there are no self-loops. Note that we can recover the original parameters $q_i$ and $\\pi_{i,j}$ from the rates $q_{i,j}$:\n",
    "$$q_i = \\sum_{j}q_{i,j}$$\n",
    "$$\\pi_{i,j} = \\frac{q_{i,j}}{q_i}.$$\n",
    "\n",
    "In each state $i$, there's a race condition between $k$ edges, each exponentially distributed with rate $q_{ij}$, the exit rate is $q_{i,i} = -q_i$. The matrix $Q = (q_{ij})_{ij}$ is called **infinitesimal generator** of the CTMC.\n",
    "Each row sum up to 0."
   ]
  },
  {
   "cell_type": "markdown",
   "metadata": {},
   "source": [
    "#### Exercise 2.1. CTMC class:\n",
    "\n",
    "Define a class CTMC, with a method `__init__()` to initialize the infinitesimal generator"
   ]
  },
  {
   "cell_type": "code",
   "execution_count": 12,
   "metadata": {},
   "outputs": [],
   "source": [
    "import numpy as np\n",
    "class CTMC(object):\n",
    "    '''Continuous-Time Markov Chain class'''\n",
    "\n",
    "    def __init__(self, \n",
    "                 Q):\n",
    "\n",
    "        assert is_well_defined(Q)\n",
    "        \n",
    "        self.Q = Q"
   ]
  },
  {
   "cell_type": "code",
   "execution_count": 13,
   "metadata": {},
   "outputs": [
    {
     "data": {
      "text/plain": [
       "array([[-3,  1,  2],\n",
       "       [ 3, -4,  1],\n",
       "       [ 4,  3, -7]])"
      ]
     },
     "execution_count": 13,
     "metadata": {},
     "output_type": "execute_result"
    }
   ],
   "source": [
    "Q = np.array([[-3,1,2],[3,-4,1],[4,3,-7]])\n",
    "ctmc_mood = CTMC(Q)\n",
    "\n",
    "ctmc_mood.Q"
   ]
  },
  {
   "cell_type": "markdown",
   "metadata": {},
   "source": [
    "#### Exrcise 2.2.\n",
    "\n",
    "Consider the SIR model and define a function `infinitesimal_generator_SIR()`that takes the rates $q_S, q_I, q_R$ as inputs and returns the infinitesimal generator `Q` after checking that it is well-defined.\n",
    "\n",
    "##### Solution\n",
    "We will consider state 0 as the susceptible state, 1 as the infected state and 2 as the recovered state,"
   ]
  },
  {
   "cell_type": "code",
   "execution_count": 14,
   "metadata": {},
   "outputs": [],
   "source": [
    "def infinitesimal_generator_SIR(rates):\n",
    "    \n",
    "    assert are_geq_0(rates)\n",
    "    \n",
    "    infinitesimal_generator = np.zeros((3,3))\n",
    "    \n",
    "    infinitesimal_generator[0,0] = -rates[1]\n",
    "    infinitesimal_generator[0,1] = rates[1]\n",
    "    \n",
    "    infinitesimal_generator[1,1] = -rates[2]\n",
    "    infinitesimal_generator[1,2] = rates[2]\n",
    "    \n",
    "    infinitesimal_generator[2,0] = rates[0]\n",
    "    infinitesimal_generator[2,2] = -rates[0]\n",
    "    \n",
    "    assert is_well_defined(infinitesimal_generator)\n",
    "    \n",
    "    return infinitesimal_generator"
   ]
  },
  {
   "cell_type": "code",
   "execution_count": 15,
   "metadata": {},
   "outputs": [
    {
     "data": {
      "text/plain": [
       "array([[-10.  ,  10.  ,   0.  ],\n",
       "       [  0.  ,  -0.5 ,   0.5 ],\n",
       "       [  0.01,   0.  ,  -0.01]])"
      ]
     },
     "execution_count": 15,
     "metadata": {},
     "output_type": "execute_result"
    }
   ],
   "source": [
    "rates = [0.01,10.,.5]\n",
    "SIR = infinitesimal_generator_SIR(rates)\n",
    "SIR"
   ]
  },
  {
   "cell_type": "markdown",
   "metadata": {},
   "source": [
    "### Jump chain and holding times\n",
    "\n",
    "We can factorize a CTMC $X(t)$ in a DTMC $Y_n$ called **jump chain**, with probability matrix $\\Pi$ where $\\pi_{i,j}=\\frac{q_{i,j}}{-q_{i,i}}$ if $i\\ne j$ and $\\pi_{ii}=0$ ."
   ]
  },
  {
   "cell_type": "markdown",
   "metadata": {},
   "source": [
    "#### Exercise 2.3. Infinitesimal generator:\n",
    "\n",
    "Define a function `jump_chain_matrix()` which takes the infinitesimal generator `Q` as input and returns the transition matrix $\\Pi$."
   ]
  },
  {
   "cell_type": "code",
   "execution_count": 16,
   "metadata": {},
   "outputs": [],
   "source": [
    "def jump_chain_matrix(Q):\n",
    "    \n",
    "    N = len(Q)\n",
    "    J = np.zeros((N,N))\n",
    "    \n",
    "    for i in range(N):\n",
    "        for j in range(N):\n",
    "                J[i,j] = Q[i,j] / (-Q[i,i]) if Q[i,i] != 0 else 0\n",
    "                J[i,i] = 0\n",
    "        \n",
    "    return J"
   ]
  },
  {
   "cell_type": "code",
   "execution_count": 17,
   "metadata": {},
   "outputs": [
    {
     "data": {
      "text/plain": [
       "array([[0.        , 0.33333333, 0.66666667],\n",
       "       [0.75      , 0.        , 0.25      ],\n",
       "       [0.57142857, 0.42857143, 0.        ]])"
      ]
     },
     "execution_count": 17,
     "metadata": {},
     "output_type": "execute_result"
    }
   ],
   "source": [
    "jump_chain_matrix(ctmc_mood.Q)"
   ]
  },
  {
   "cell_type": "markdown",
   "metadata": {},
   "source": [
    "#### Exercise 2.4. Plot continuous trajectory:\n",
    "\n",
    "Recall the Kolmogorov equation and define a function `continuous_trajectories()` taking as input $Q$, the initial distribution $p_0$ and a time $t$. Use a solver for differential equations and return the solution. \n",
    "\n",
    "Consider one of the models define before and plot the trajectory of each state against time."
   ]
  },
  {
   "cell_type": "code",
   "execution_count": 18,
   "metadata": {},
   "outputs": [
    {
     "data": {
      "text/plain": [
       "<matplotlib.legend.Legend at 0x26dc47b6eb0>"
      ]
     },
     "execution_count": 18,
     "metadata": {},
     "output_type": "execute_result"
    },
    {
     "data": {
      "image/png": "[encoded data removed]",
      "text/plain": [
       "<Figure size 432x288 with 1 Axes>"
      ]
     },
     "metadata": {
      "needs_background": "light"
     },
     "output_type": "display_data"
    }
   ],
   "source": [
    "from scipy.integrate import odeint\n",
    "import matplotlib.pyplot as plt\n",
    "def continuous_trajectories(Q,p0,t):\n",
    "    \n",
    "    def forward_kolmogorov(p,t):\n",
    "        return np.matmul(p,Q)\n",
    "    \n",
    "    p_t = odeint(forward_kolmogorov, p0, t)\n",
    "\n",
    "    return p_t\n",
    "\n",
    "p0 = np.array([1.,0,0])\n",
    "t = np.linspace(0,5)\n",
    "\n",
    "infinitesimal_generator_SIR(rates)\n",
    "p_t = continuous_trajectories(SIR, p0, t)\n",
    "plt.plot(t,p_t[:,0], label=\"Susceptible\")\n",
    "plt.plot(t,p_t[:,1], label=\"Infected\")\n",
    "plt.plot(t,p_t[:,2], label=\"Recovered\")\n",
    "plt.legend()"
   ]
  },
  {
   "cell_type": "markdown",
   "metadata": {},
   "source": [
    "#### Exercise 2.5. Plot stochastic trajectory:\n",
    "\n",
    "Use the jump chain matrix to generate stochastic trajectories of the CTMC (as already seen in DTMC). However, the time intervals are non-constant: compute the holding times using the respective exit rates. Plot such stochastic trajectories with respect to time."
   ]
  },
  {
   "cell_type": "code",
   "execution_count": 19,
   "metadata": {},
   "outputs": [],
   "source": [
    "def simulation_CTMC(Q,p0,n_iter):\n",
    "\n",
    "    J = jump_chain_matrix(Q)\n",
    "    \n",
    "    state = sample_discrete(N = 1, p = p0)\n",
    "    trajectory = [state]\n",
    "    times = [0]\n",
    "    \n",
    "    if n_iter == 0:\n",
    "        return (trajectory,time) \n",
    "    \n",
    "    for iter in range(n_iter):\n",
    "        previous_state = int(trajectory[-1])\n",
    "        beta = 1. / -Q[previous_state, previous_state] \n",
    "        delta_t = np.random.exponential(beta) # sample the firing time of the previus state\n",
    "        times.append(round(times[-1] + delta_t,5))\n",
    "        state = sample_discrete(N = 1, p = J[state,:])\n",
    "        trajectory.append(state)\n",
    "        \n",
    "    return (trajectory, times) "
   ]
  },
  {
   "cell_type": "code",
   "execution_count": 20,
   "metadata": {
    "scrolled": true
   },
   "outputs": [
    {
     "data": {
      "image/png": "[encoded data removed]",
      "text/plain": [
       "<Figure size 432x288 with 1 Axes>"
      ]
     },
     "metadata": {
      "needs_background": "light"
     },
     "output_type": "display_data"
    },
    {
     "name": "stdout",
     "output_type": "stream",
     "text": [
      "[ 0 ] \t Susceptible\n",
      "[ 0.04197 ] \t Infected\n",
      "[ 25.31979 ] \t Recovered\n",
      "[ 98.40947 ] \t Susceptible\n",
      "[ 98.67456 ] \t Infected\n",
      "[ 109.89824 ] \t Recovered\n",
      "[ 142.71508 ] \t Susceptible\n",
      "[ 142.86049 ] \t Infected\n",
      "[ 143.94865 ] \t Recovered\n"
     ]
    }
   ],
   "source": [
    "rates = [0.01,10.,.1]\n",
    "SIR = infinitesimal_generator_SIR(rates)\n",
    "\n",
    "result = simulation_CTMC(SIR, p0, n_iter = 8)\n",
    "plt.plot(result[1], result[0], 'o-')\n",
    "plt.show()\n",
    "dic = {0 : \"Susceptible\", 1 : \"Infected\", 2 : \"Recovered\"}\n",
    "for i in range(len(result[0])):\n",
    "    print(\"[\",result[1][i],\"] \\t\", dic[result[0][i]])"
   ]
  },
  {
   "cell_type": "markdown",
   "metadata": {},
   "source": [
    "## 3. Poisson Process \n",
    "\n",
    "Consider systems whose state transitions are triggered by streams of\n",
    "events that occur one at a time and assume that the successive inter-event\n",
    "times are iid exponential random variables.\n",
    "$N_{\\lambda}(0,t)$ is a process that counts how many times an exponential distribution with rate $\\lambda$ has fired from time $0$ to time $t$. It can be seen as a CTMC with state space $S=\\mathbb{N}$ and $Q$ is: $q_{i,i+1}=\\lambda$ and zero elsewhere. The time $t_i = t_{i-1}+D_i$, with $D_i\\sim Exp(\\lambda)$."
   ]
  },
  {
   "cell_type": "markdown",
   "metadata": {},
   "source": [
    "#### Exercise 3.1. Repairing machines:\n",
    "\n",
    "A machine shop consists of N machines\n",
    "and M repair people ($M\\le N$). The machines are identical, and the lifetimes\n",
    "of the machines are independent $Exp(\\mu)$ random variables. When the machines fail,\n",
    "they are serviced in the order of failure by the M repair persons. Each failed machine\n",
    "needs one and only one repair person, and the repair times are independent $Exp(\\lambda)$\n",
    "random variables. A repaired machine behaves like a new machine. Let $X(t)$ be the\n",
    "number of machines that are functioning at time t.\n",
    "\n",
    "Draw the diagram for $N = 4$ and $M = 2$ and define a function that takes $N, M, \\lambda$ and $\\mu$ as input and return the infitesimal generator."
   ]
  },
  {
   "cell_type": "markdown",
   "metadata": {},
   "source": [
    "<img src=\"imgs/machine_shop.png\" width=\"600\">"
   ]
  },
  {
   "cell_type": "code",
   "execution_count": 21,
   "metadata": {},
   "outputs": [],
   "source": [
    "def machine_shop(N, M, repair, lifetime):\n",
    "    Q = np.zeros((N+1,N+1))\n",
    "    Q[0,1] = M * repair\n",
    "    Q[0,0] = -Q[0,1]\n",
    "    \n",
    "    for state in range(1,N):\n",
    "        Q[state,state - 1] = state * lifetime\n",
    "        Q[state,state + 1] = M * repair if state <= N - M else (N - state) * repair\n",
    "        Q[state,state] = -Q[state, state - 1] -Q[state,state+1]\n",
    "    \n",
    "    Q[N,N-1] = N * lifetime\n",
    "    Q[N,N] = -Q[N,N-1]\n",
    "        \n",
    "    return Q "
   ]
  },
  {
   "cell_type": "code",
   "execution_count": 22,
   "metadata": {},
   "outputs": [
    {
     "name": "stdout",
     "output_type": "stream",
     "text": [
      "Is the infinitesimal generator well-defined?  True\n"
     ]
    },
    {
     "data": {
      "text/plain": [
       "array([[ -6.,   6.,   0.,   0.,   0.],\n",
       "       [  2.,  -8.,   6.,   0.,   0.],\n",
       "       [  0.,   4., -10.,   6.,   0.],\n",
       "       [  0.,   0.,   6.,  -9.,   3.],\n",
       "       [  0.,   0.,   0.,   8.,  -8.]])"
      ]
     },
     "execution_count": 22,
     "metadata": {},
     "output_type": "execute_result"
    }
   ],
   "source": [
    "machine = machine_shop(N = 4, M = 2, repair = 3, lifetime = 2)\n",
    "print(\"Is the infinitesimal generator well-defined? \", is_well_defined(machine))\n",
    "machine"
   ]
  },
  {
   "cell_type": "markdown",
   "metadata": {},
   "source": [
    "#### Exercise 3.2. Engines of a jet airplane:\n",
    "\n",
    "Draw the diagram for a commercial jet airplane that has four engines, two on each wing. Each engine lasts for a random amount of time that is an exponential random variable with parameter $\\lambda$ and then fails. If the failure takes place in\n",
    "flight, there can be no repair. The airplane needs at least one engine on each wing to\n",
    "function properly in order to fly safely. Model this system so that we can predict the\n",
    "probability of a trouble-free flight."
   ]
  },
  {
   "cell_type": "markdown",
   "metadata": {},
   "source": [
    "##### Solution\n",
    "$X(t)$ is the number of damaged engines on each wing, e.g.: $00$ means no engine is damaged; $10$ means that one engine on the left wing is damaged and none on the right wing; $12$ means that one engine is damaged on the left wind and 2 and the entire right wing is out of order. "
   ]
  },
  {
   "cell_type": "markdown",
   "metadata": {},
   "source": [
    "<img src=\"imgs/jet_engine.png\" width=\"600\">"
   ]
  },
  {
   "cell_type": "code",
   "execution_count": 37,
   "metadata": {},
   "outputs": [
    {
     "name": "stdout",
     "output_type": "stream",
     "text": [
      "[[-0.08  0.04  0.    0.04  0.    0.    0.    0.    0.  ]\n",
      " [ 0.   -0.06  0.02  0.    0.04  0.    0.    0.    0.  ]\n",
      " [ 0.    0.   -0.04  0.    0.    0.04  0.    0.    0.  ]\n",
      " [ 0.    0.    0.   -0.06  0.04  0.    0.02  0.    0.  ]\n",
      " [ 0.    0.    0.    0.   -0.04  0.02  0.    0.02  0.  ]\n",
      " [ 0.    0.    0.    0.    0.   -0.02  0.    0.    0.02]\n",
      " [ 0.    0.    0.    0.    0.    0.   -0.02  0.02  0.  ]\n",
      " [ 0.    0.    0.    0.    0.    0.    0.   -0.02  0.02]\n",
      " [ 0.    0.    0.    0.    0.    0.    0.    0.    0.  ]]\n",
      "Probability of having a trobule-free flight of 4 hours: 0.9882127481104159\n"
     ]
    },
    {
     "data": {
      "image/png": "[encoded data removed]",
      "text/plain": [
       "<Figure size 432x288 with 1 Axes>"
      ]
     },
     "metadata": {
      "needs_background": "light"
     },
     "output_type": "display_data"
    }
   ],
   "source": [
    "def airplane(lifetime):\n",
    "    \n",
    "    rate = 1. / lifetime\n",
    "    Q = np.zeros((9,9))\n",
    "    \n",
    "    # State 00\n",
    "    Q[0,1] = 2*rate # to 01\n",
    "    Q[0,3] = 2*rate # to 10\n",
    "    Q[0,0] = -4*rate\n",
    "    ######################\n",
    "    # State 01\n",
    "    Q[1,2] = rate # to 02\n",
    "    Q[1,4] = 2*rate # to 11\n",
    "    Q[1,1] = -3*rate\n",
    "    ######################\n",
    "    # State 02\n",
    "    Q[2,5] = 2*rate # to 12\n",
    "    Q[2,2] = -2*rate\n",
    "    ######################\n",
    "    # State 10\n",
    "    Q[3,4] = 2*rate # to 11\n",
    "    Q[3,6] = rate # to 20\n",
    "    Q[3,3] = -3*rate\n",
    "    ######################\n",
    "    # State 11\n",
    "    Q[4,5] = rate # to 12\n",
    "    Q[4,7] = rate # to 21\n",
    "    Q[4,4] = -2*rate\n",
    "    ######################\n",
    "    # State 12\n",
    "    Q[5,8] = rate # to 22\n",
    "    Q[5,5] = -rate\n",
    "    ######################\n",
    "    # State 20\n",
    "    Q[6,7] = rate # to 21\n",
    "    Q[6,6] = -rate\n",
    "    ######################\n",
    "    # State 21\n",
    "    Q[7,8] = rate # to 22\n",
    "    Q[7,7] = -rate\n",
    "    ######################\n",
    "    \n",
    "    return Q\n",
    "\n",
    "jet = airplane(50)\n",
    "print(jet)\n",
    "\n",
    "p0 = [1,0,0,0,0,0,0,0,0]\n",
    "t = np.linspace(0,4)\n",
    "p_t = continuous_trajectories(jet, p0, t)\n",
    "[plt.plot(t,p_t[:,i], label=(\"0\"+np.base_repr(i,base=3))[-2:]) for i in range(9)]\n",
    "plt.legend()\n",
    "\n",
    "print(\"Probability of having a trobule-free flight of 4 hours:\", sum(p_t[-1,[0,1,3,4]]))"
   ]
  },
  {
   "cell_type": "code",
   "execution_count": 34,
   "metadata": {},
   "outputs": [
    {
     "data": {
      "text/plain": [
       "10"
      ]
     },
     "execution_count": 34,
     "metadata": {},
     "output_type": "execute_result"
    }
   ],
   "source": [
    "int((\"0\"+np.base_repr(3,base=3))[-2:])"
   ]
  },
  {
   "cell_type": "markdown",
   "metadata": {},
   "source": [
    "#### Exercise 3.3. Gas station:\n",
    "A gas station has a single pump and no space for vehicles to wait (if a vehicle arrives and the pump is not available, it leaves). Vehicles arrive to the gas station following a Poisson process with a rate of $\\lambda=\\frac{3}{20}$ vehicles per minute, of which $75\\%$ are cars and $25\\%$ are motorcycles. The refuelling time can be modelled with an exponential random variable with mean 8 minutes for cars and 3 minutes for motorcycles, that is, the services rates are $\\mu_c=\\frac{1}{8}$ cars and $\\mu_m=\\frac{1}{3}$ motorcycles per minute respectively. Describe this problem as a continuous-time Markov chain, i.e., draw the diagram and define the infinitesimal generator."
   ]
  },
  {
   "cell_type": "markdown",
   "metadata": {},
   "source": [
    "<img src=\"imgs/gas.png\" width=\"250\">"
   ]
  },
  {
   "cell_type": "code",
   "execution_count": 24,
   "metadata": {},
   "outputs": [
    {
     "data": {
      "text/plain": [
       "array([[-0.15      ,  0.1125    ,  0.0375    ],\n",
       "       [ 0.125     , -0.125     ,  0.        ],\n",
       "       [ 0.33333333,  0.        , -0.33333333]])"
      ]
     },
     "execution_count": 24,
     "metadata": {},
     "output_type": "execute_result"
    }
   ],
   "source": [
    "def gas_station(arrival_rate, p_car, refill_car, refill_mcycle):\n",
    "    \n",
    "    Q = np.zeros((3,3))\n",
    "    \n",
    "    Q[0,1] = p_car * arrival_rate\n",
    "    Q[0,2] = (1-p_car) * arrival_rate\n",
    "    Q[0,0] = -Q[0,1] -Q[0,2]\n",
    "    \n",
    "    Q[1,0] = refill_car\n",
    "    Q[1,1] = -Q[1,0]\n",
    "    \n",
    "    Q[2,0] = refill_mcycle\n",
    "    Q[2,2] = -Q[2,0]\n",
    "    \n",
    "    return Q\n",
    "\n",
    "gas_station(3/20, 0.75, 1/8, 1/3)"
   ]
  },
  {
   "cell_type": "markdown",
   "metadata": {},
   "source": [
    "## 4. Birth-death process and queues\n",
    "\n",
    "General class of CTMC on $S = \\mathbb{N}$ with birth rate $\\lambda_i$ (from $i$ to $i+1$) and death rate $\\mu_i$ (from $i$ to $i-1$). When a birth occurs, the process goes from state $i$ to $i + 1$. When a death occurs, the process goes from state $i$ to state $i − 1$.\n",
    "\n",
    "The birth–death process is the most fundamental example of a **queueing model**. This is a queue with Poisson arrivals, drawn from an infinite population, and $C$ servers with exponentially distributed service time with $K$ places in the queue. "
   ]
  },
  {
   "cell_type": "markdown",
   "metadata": {},
   "source": [
    "#### Exercise 4.1. BirthDeath class:\n",
    "\n",
    "Define a general `BirthDeath` class inheriting from the class CTMC in order to initialize the number of states, the rates of forward and backward transitions."
   ]
  },
  {
   "cell_type": "code",
   "execution_count": 25,
   "metadata": {},
   "outputs": [
    {
     "data": {
      "text/plain": [
       "array([[-1.,  1.,  0.,  0.,  0.,  0.],\n",
       "       [ 2., -3.,  1.,  0.,  0.,  0.],\n",
       "       [ 0.,  2., -3.,  1.,  0.,  0.],\n",
       "       [ 0.,  0.,  2., -3.,  1.,  0.],\n",
       "       [ 0.,  0.,  0.,  2., -3.,  1.],\n",
       "       [ 0.,  0.,  0.,  0.,  2., -2.]])"
      ]
     },
     "execution_count": 25,
     "metadata": {},
     "output_type": "execute_result"
    }
   ],
   "source": [
    "class BirthDeath(CTMC):\n",
    "    ''' Birth-Death Process '''\n",
    "\n",
    "    def __init__(\n",
    "            self,\n",
    "            arrival_rates, service_rates, max_queue_length):\n",
    "        \n",
    "        if isinstance(arrival_rates,int) and max_queue_length > 1:\n",
    "            arrival_rates = arrival_rates * np.ones(max_queue_length)\n",
    "            \n",
    "        if isinstance(service_rates,int) and max_queue_length > 1:\n",
    "            service_rates = service_rates * np.ones(max_queue_length)\n",
    "            \n",
    "        assert len(arrival_rates) == max_queue_length and len(service_rates) == max_queue_length\n",
    "            \n",
    "        \n",
    "        Q = np.diag(arrival_rates,k=1) + np.diag(service_rates,k=-1)\n",
    "        for i in range(max_queue_length+1):\n",
    "            Q[i,i] = -sum(Q[i,:]) \n",
    "\n",
    "        CTMC.__init__(self,Q)\n",
    "        \n",
    "bd = BirthDeath(1,2,5)\n",
    "bd.Q"
   ]
  },
  {
   "cell_type": "markdown",
   "metadata": {},
   "source": [
    "#### Exercise 4.2. Telefone switch:\n",
    "\n",
    "A telephone switch can handle K calls at any\n",
    "one time. Calls arrive according to a Poisson process with rate $\\lambda$. If the switch is\n",
    "already serving K calls when a new call arrives, then the new call is lost. If a call\n",
    "is accepted, it lasts for an $Exp(\\mu)$ amount of time and then terminates. All call\n",
    "durations are independent of each other. Let $X(t)$ be the number of calls that are\n",
    "being handled by the switch at time t. Model $X(t)$ as a CTMC.\n",
    "\n",
    "What if the caller can put a maximum of H callers on hold?"
   ]
  },
  {
   "cell_type": "markdown",
   "metadata": {},
   "source": [
    "<img src=\"imgs/birth_death.png\" width=\"600\">"
   ]
  },
  {
   "cell_type": "code",
   "execution_count": 26,
   "metadata": {},
   "outputs": [
    {
     "data": {
      "text/plain": [
       "array([[ -2.,   2.,   0.,   0.,   0.,   0.,   0.,   0.,   0.,   0.,   0.],\n",
       "       [  1.,  -3.,   2.,   0.,   0.,   0.,   0.,   0.,   0.,   0.,   0.],\n",
       "       [  0.,   2.,  -4.,   2.,   0.,   0.,   0.,   0.,   0.,   0.,   0.],\n",
       "       [  0.,   0.,   3.,  -5.,   2.,   0.,   0.,   0.,   0.,   0.,   0.],\n",
       "       [  0.,   0.,   0.,   4.,  -6.,   2.,   0.,   0.,   0.,   0.,   0.],\n",
       "       [  0.,   0.,   0.,   0.,   5.,  -7.,   2.,   0.,   0.,   0.,   0.],\n",
       "       [  0.,   0.,   0.,   0.,   0.,   6.,  -8.,   2.,   0.,   0.,   0.],\n",
       "       [  0.,   0.,   0.,   0.,   0.,   0.,   7.,  -9.,   2.,   0.,   0.],\n",
       "       [  0.,   0.,   0.,   0.,   0.,   0.,   0.,   8., -10.,   2.,   0.],\n",
       "       [  0.,   0.,   0.,   0.,   0.,   0.,   0.,   0.,   9., -11.,   2.],\n",
       "       [  0.,   0.,   0.,   0.,   0.,   0.,   0.,   0.,   0.,  10., -10.]])"
      ]
     },
     "execution_count": 26,
     "metadata": {},
     "output_type": "execute_result"
    }
   ],
   "source": [
    "def k_server(arrival_rate,service_rate,server_num,queue_length):\n",
    "    service_rates = [i*service_rate if i < server_num else server_num*service_rate for i in range(1,queue_length + 1)]\n",
    "    return BirthDeath(arrival_rate, service_rates,queue_length)\n",
    "\n",
    "arrival_rate = 2\n",
    "service_rate = 1\n",
    "queue_length = 10\n",
    "\n",
    "\n",
    "telephone_switch = k_server(arrival_rate,service_rate,queue_length,queue_length)\n",
    "telephone_switch.Q"
   ]
  },
  {
   "cell_type": "code",
   "execution_count": 27,
   "metadata": {},
   "outputs": [
    {
     "data": {
      "text/plain": [
       "array([[ -2.,   2.,   0.,   0.,   0.,   0.,   0.,   0.,   0.,   0.,   0.],\n",
       "       [  1.,  -3.,   2.,   0.,   0.,   0.,   0.,   0.,   0.,   0.,   0.],\n",
       "       [  0.,   2.,  -4.,   2.,   0.,   0.,   0.,   0.,   0.,   0.,   0.],\n",
       "       [  0.,   0.,   3.,  -5.,   2.,   0.,   0.,   0.,   0.,   0.,   0.],\n",
       "       [  0.,   0.,   0.,   4.,  -6.,   2.,   0.,   0.,   0.,   0.,   0.],\n",
       "       [  0.,   0.,   0.,   0.,   5.,  -7.,   2.,   0.,   0.,   0.,   0.],\n",
       "       [  0.,   0.,   0.,   0.,   0.,   6.,  -8.,   2.,   0.,   0.,   0.],\n",
       "       [  0.,   0.,   0.,   0.,   0.,   0.,   7.,  -9.,   2.,   0.,   0.],\n",
       "       [  0.,   0.,   0.,   0.,   0.,   0.,   0.,   8., -10.,   2.,   0.],\n",
       "       [  0.,   0.,   0.,   0.,   0.,   0.,   0.,   0.,   8., -10.,   2.],\n",
       "       [  0.,   0.,   0.,   0.,   0.,   0.,   0.,   0.,   0.,   8.,  -8.]])"
      ]
     },
     "execution_count": 27,
     "metadata": {},
     "output_type": "execute_result"
    }
   ],
   "source": [
    "arrival_rate = 2\n",
    "service_rate = 1\n",
    "H = 2\n",
    "queue_length = 10\n",
    "\n",
    "telephone_switch = k_server(arrival_rate,service_rate,queue_length - H,queue_length)\n",
    "\n",
    "telephone_switch.Q"
   ]
  }
 ],
 "metadata": {
  "kernelspec": {
   "display_name": "Python 3",
   "language": "python",
   "name": "python3"
  },
  "language_info": {
   "codemirror_mode": {
    "name": "ipython",
    "version": 3
   },
   "file_extension": ".py",
   "mimetype": "text/x-python",
   "name": "python",
   "nbconvert_exporter": "python",
   "pygments_lexer": "ipython3",
   "version": "3.8.8"
  }
 },
 "nbformat": 4,
 "nbformat_minor": 4
}
