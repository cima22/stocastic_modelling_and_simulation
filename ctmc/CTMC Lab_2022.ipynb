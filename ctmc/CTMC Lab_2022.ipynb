{
 "cells": [
  {
   "cell_type": "code",
   "execution_count": null,
   "metadata": {},
   "outputs": [],
   "source": [
    "import numpy as np\n",
    "import scipy.linalg"
   ]
  },
  {
   "cell_type": "markdown",
   "metadata": {},
   "source": [
    "# CTMC\n",
    "\n",
    "A CTMC is a continuous-time stochastic process $\\{X(t),t\\ge 0\\}$ defined on a finite state space with Markov property at each time $t\\ge 0$. Finite-state CTMC spends an **exponentially distributed** amount of time in a given state before jumping out of it. Thus *exponential distributions* play an important role in CTMCs. \n",
    "\n",
    "\n",
    "## 1. Exponential distribution\n",
    "Recall that for an exponential random variable $T\\sim Exp(\\lambda)$:\n",
    "- $E[T] = \\frac{1}{\\lambda}$ and\n",
    "- $Var[T] = \\frac{1}{\\lambda^2}$."
   ]
  },
  {
   "cell_type": "markdown",
   "metadata": {},
   "source": [
    "#### Exercise 1.1. Time to failure:\n",
    "\n",
    "Suppose a new machine is put into operation at\n",
    "time zero. Its lifetime is known to be an $Exp(\\lambda)$ random variable with $\\lambda = 0.1$ [1/hour].\n",
    "What is the probability that the machine will give trouble-free service continuously for 1 day? Suppose the machine has not failed by the end of the first day. What is the probability that it will give trouble-free service for the whole of the next day?"
   ]
  },
  {
   "cell_type": "markdown",
   "metadata": {},
   "source": [
    "What is the probability that the machine will give trouble-free service continuously for 1 day? \n",
    "<br>It is $$P(x > 24h) = 1 - P(x < 24h) = 1 - (1 - e^{-\\lambda*24}) = 0.09$$\n",
    "<br><br>\n",
    "Suppose the machine has not failed by the end of the first day. What is the probability that it will give trouble-free service for the whole of the next day?\n",
    "<br>Thanks to the memoryless property, it is $$P(x > 48h \\ | \\ x > 24h) = P(x > 24h \\ + \\ 24h \\ | \\ x > 24h) = P(x > 24h) = 0.09$$"
   ]
  },
  {
   "cell_type": "markdown",
   "metadata": {},
   "source": [
    "### The minimum of independent exponential r.v.\n",
    "\n",
    "Let $T_i$ be an $Exp(\\lambda_i)$ random variable $(1\\le i\\le k)$, we can think of $T_i$ as the time when an event of type $i$ occurs and suppose $T_1, T_2,\\dots , T_k$ are\n",
    "independent. The r.v. $T = \\min\\{T_1, T_2,\\dots , T_k\\}$, representing the\n",
    "time when the first of these k events occurs, is an exponential r.v. with $\\lambda = \\sum_{i=1}^k \\lambda_i$."
   ]
  },
  {
   "cell_type": "markdown",
   "metadata": {},
   "source": [
    "#### Exercise 1.2. Hospital:\n",
    "\n",
    "A hospital currently has\n",
    "seven pregnant women waiting to give birth. Three of them are expected to\n",
    "give birth to boys, and the remaining four are expected to give birth to girls.\n",
    "From prior experience, the hospital staff knows that a mother spends on average 6 hours in the hospital before delivering a boy and 5 hours before delivering\n",
    "a girl. Assume that these times are independent and exponentially distributed.\n",
    "What is the probability that the first baby born is a boy and is born in the next\n",
    "hour?"
   ]
  },
  {
   "cell_type": "markdown",
   "metadata": {},
   "source": [
    "Let's define $K = argmin_k(T_k)$. We have that $P(K = k) = \\frac{\\lambda_k}{\\lambda}$, $P(T < t) = \\lambda e^{-\\lambda t}$. Since K and T are independent, we have that $$P(K = k, T < t) = P(K = k)P(T < t)$$\n",
    "<br>\n",
    "<br>\n",
    "If we set that $k \\ = \\ 0, \\ 1, \\ 2$ indicates the pregnant moms of a boy and $k \\ = \\ 3,\\ 4,\\ 5,\\ 6$ are the pregnant moms of girls, we have that $E[T_k] = 6 \\Rightarrow \\lambda_k = \\frac{1}{6}$ for $k \\ = \\ 0,\\ 1,\\ 2$, while we have $E[T_k] = 5 \\Rightarrow \\lambda_k = \\frac{1}{5}$ for $k \\ = \\ 3, \\ 4, \\ 5, \\ 6$. \n",
    "<br>\n",
    "Moreover, we have that $\\lambda = \\frac{3}{6} + \\frac{4}{5} = \\frac{13}{10}$\n",
    "<br><br>\n",
    "What is the probability that the first baby born is a boy and is born in the next hour?\n",
    "<br>\n",
    "It is $$P((K \\ = \\ 0 \\ or \\ K \\ = \\ 1 \\ or \\ K \\ = \\ 2 \\ ) \\ and \\ T \\ < \\ 1) = \\frac{\\sum_{k=0}^2\\lambda_k}{\\lambda} (1 - e^{-\\lambda}) = \\frac{3}{5}\\frac{10}{13} (1 - e^{-\\frac{13}{10}}) = 0.34$$"
   ]
  },
  {
   "cell_type": "markdown",
   "metadata": {},
   "source": [
    "## 2. CTMC\n",
    "Let $X(t)$ be the state of a system at time t. \n",
    "\n",
    "Random evolution of the system: suppose the system starts in state i. It stays there for an $Exp(q_i)$ amount of time, called the *sojourn time in state i*. At the end of the sojourn time in\n",
    "state i, the system makes a sudden transition to state $j\\ne i$ with probability $\\pi_{i,j}$,\n",
    "independent of how long the system has been in state i. In case state i is absorbing we set $q_i=0$.\n",
    "\n",
    "Analogously to DTMCs, a CTMC can also be represented graphically by means\n",
    "of a directed graph: the directed graph has one node for\n",
    "each state. There is a directed arc from node i to node j if $\\pi_{i,j} > 0$. The quantity\n",
    "$q_{i,j}= q_i \\pi_{i,j}$, called the transition rate from i to j, is written next to this arc. Note that there are no self-loops. Note that we can recover the original parameters $q_i$ and $\\pi_{i,j}$ from the rates $q_{i,j}$:\n",
    "$$q_i = \\sum_{j}q_{i,j}$$\n",
    "$$\\pi_{i,j} = \\frac{q_{i,j}}{q_i}.$$\n",
    "\n",
    "In each state $i$, there's a race condition between $k$ edges, each exponentially distributed with rate $q_{ij}$, the exit rate is $q_{i,i} = -q_i$. The matrix $Q = (q_{ij})_{ij}$ is called **infinitesimal generator** of the CTMC.\n",
    "Each row sum up to 0."
   ]
  },
  {
   "cell_type": "markdown",
   "metadata": {},
   "source": [
    "#### Exercise 2.1. CTMC class:\n",
    "\n",
    "Define a class CTMC, with a method `__init__()` to initialize the infinitesimal generator"
   ]
  },
  {
   "cell_type": "code",
   "execution_count": null,
   "metadata": {},
   "outputs": [],
   "source": [
    "import numpy as np\n",
    "class CTMC(object):\n",
    "    '''Continuous-Time Markov Chain class'''\n",
    "\n",
    "    def __init__(self, \n",
    "                 ):\n",
    "        # CODE HERE"
   ]
  },
  {
   "cell_type": "markdown",
   "metadata": {},
   "source": [
    "#### Exrcise 2.2.\n",
    "\n",
    "Consider the SIR model and define a function `infinitesimal_generator_SIR()`that takes the rates $q_S, q_I, q_R$ as inputs and returns the infinitesimal generator `Q` after checking that it is well-defined."
   ]
  },
  {
   "cell_type": "code",
   "execution_count": null,
   "metadata": {},
   "outputs": [],
   "source": [
    "def infinitesimal_generator_SIR(rates):\n",
    "    \n",
    "    # check they are all > 0\n",
    "    # check rows sum up to 0\n",
    "    \n",
    "    return "
   ]
  },
  {
   "cell_type": "markdown",
   "metadata": {},
   "source": [
    "### Jump chain and holding times\n",
    "\n",
    "We can factorize a CTMC $X(t)$ in a DTMC $Y_n$ called **jump chain**, with probability matrix $\\Pi$ where $\\pi_{i,j}=\\frac{q_{i,j}}{-q_{i,i}}$ if $i\\ne j$ and $\\pi_{ii}=0$ ."
   ]
  },
  {
   "cell_type": "markdown",
   "metadata": {},
   "source": [
    "#### Exercise 2.3. Infinitesimal generator:\n",
    "\n",
    "Define a function `jump_chain_matrix()` which takes the infinitesimal generator `Q` as input and returns the transition matrix $\\Pi$."
   ]
  },
  {
   "cell_type": "code",
   "execution_count": 5,
   "metadata": {},
   "outputs": [],
   "source": [
    "def jump_chain_matrix(Q):\n",
    "    \n",
    "    # be careful not to divide by zero\n",
    "                \n",
    "    return J"
   ]
  },
  {
   "cell_type": "markdown",
   "metadata": {},
   "source": [
    "#### Exercise 2.4. Plot continuous trajectory:\n",
    "\n",
    "Recall the Kolmogorov equation and define a function `continuous_trajectories()` taking as input $Q$, the initial distribution $p_0$ and a time $t$. Use a solver for differential equations and return the solution. \n",
    "\n",
    "Consider one of the models define before and plot the trajectory of each state against time."
   ]
  },
  {
   "cell_type": "code",
   "execution_count": null,
   "metadata": {},
   "outputs": [],
   "source": [
    "from scipy.integrate import odeint\n",
    "import matplotlib.pyplot as plt\n",
    "\n",
    "def continuous_trajectories(Q,p0,t):\n",
    "\n",
    "    # solving the Kolmogorov diff eq with odeint\n",
    "\n",
    "    return "
   ]
  },
  {
   "cell_type": "markdown",
   "metadata": {},
   "source": [
    "#### Exercise 2.5. Plot stochastic trajectory:\n",
    "\n",
    "Use the jump chain matrix to generate stochastic trajectories of the CTMC (as already seen in DTMC). However, the time intervals are non-constant: compute the holding times using the respective exit rates. Plot such stochastic trajectories with respect to time."
   ]
  },
  {
   "cell_type": "code",
   "execution_count": null,
   "metadata": {},
   "outputs": [],
   "source": [
    "def simulation_CTMC(Q,p0,n_iter):\n",
    "\n",
    "    # CODE HERE\n",
    "        \n",
    "    return "
   ]
  },
  {
   "cell_type": "code",
   "execution_count": null,
   "metadata": {},
   "outputs": [],
   "source": []
  },
  {
   "cell_type": "markdown",
   "metadata": {},
   "source": [
    "## 3. Poisson Process \n",
    "\n",
    "Consider systems whose state transitions are triggered by streams of\n",
    "events that occur one at a time and assume that the successive inter-event\n",
    "times are iid exponential random variables.\n",
    "$N_{\\lambda}(0,t)$ is a process that counts how many times an exponential distribution with rate $\\lambda$ has fired from time $0$ to time $t$. It can be seen as a CTMC with state space $S=\\mathbb{N}$ and $Q$ is: $q_{i,i+1}=\\lambda$ and zero elsewhere. The time $t_i = t_{i-1}+D_i$, with $D_i\\sim Exp(\\lambda)$."
   ]
  },
  {
   "cell_type": "markdown",
   "metadata": {},
   "source": [
    "#### Exercise 3.1. Repairing machines:\n",
    "\n",
    "A machine shop consists of N machines\n",
    "and M repair persons ($M\\le N$). The machines are identical, and the lifetimes\n",
    "of the machines are independent $Exp(\\mu)$ random variables. When the machines fail,\n",
    "they are serviced in the order of failure by the M repair persons. Each failed machine\n",
    "needs one and only one repair person, and the repair times are independent $Exp(\\lambda)$\n",
    "random variables. A repaired machine behaves like a new machine. Let $X(t)$ be the\n",
    "number of machines that are functioning at time t.\n",
    "\n",
    "Draw the diagram for $N = 4$ and $M = 2$ and define a function that takes $N, M, \\lambda$ and $\\mu$ as input and return the infitesimal generator."
   ]
  },
  {
   "cell_type": "code",
   "execution_count": 6,
   "metadata": {},
   "outputs": [],
   "source": [
    "def machine_shop(N, M, repair, lifetime):\n",
    "\n",
    "    \n",
    "    return Q "
   ]
  },
  {
   "cell_type": "markdown",
   "metadata": {},
   "source": [
    "#### Exercise 3.2. Engines of a jet airplane:\n",
    "\n",
    "Draw the diagram for a commercial jet airplane has four engines, two on each wing. Each engine lasts for a random amount of time that is an exponential random variable with parameter $\\lambda$ and then fails. If the failure takes place in\n",
    "flight, there can be no repair. The airplane needs at least one engine on each wing to\n",
    "function properly in order to fly safely. Model this system so that we can predict the\n",
    "probability of a trouble-free flight."
   ]
  },
  {
   "cell_type": "code",
   "execution_count": 7,
   "metadata": {},
   "outputs": [],
   "source": [
    "def airplane(lifetime):\n",
    "    \n",
    "    # CODE HERE\n",
    "    \n",
    "    return Q"
   ]
  },
  {
   "cell_type": "markdown",
   "metadata": {},
   "source": [
    "#### Exercise 3.3. Gas station:\n",
    "A gas station has a single pump and no space for vehicles to wait (if a vehicle arrives and the pump is not available, it leaves). Vehicles arrive to the gas station following a Poisson process with a rate of $\\lambda=\\frac{3}{20}$ vehicles per minute, of which $75\\%$ are cars and $25\\%$ are motorcycles. The refuelling time can be modelled with an exponential random variable with mean 8 minutes for cars and 3 minutes for motorcycles, that is, the services rates are $\\mu_c=\\frac{1}{8}$ cars and $\\mu_m=\\frac{1}{3}$ motorcycles per minute respectively. Describe this problem as a continuous-time Markov chain, i.e., draw the diagram and define the infinitesimal generator."
   ]
  },
  {
   "cell_type": "code",
   "execution_count": 8,
   "metadata": {},
   "outputs": [],
   "source": [
    "def gas_station(parameters):\n",
    "    \n",
    "    # CODE HERE\n",
    "    \n",
    "    return Q"
   ]
  },
  {
   "cell_type": "markdown",
   "metadata": {},
   "source": [
    "## 4. Birth-death process and queues\n",
    "\n",
    "General class of CTMC on $S = \\mathbb{N}$ with birth rate $\\lambda_i$ (from $i$ to $i+1$) and death rate $\\mu_i$ (from $i$ to $i-1$). When a birth occurs, the process goes from state $i$ to $i + 1$. When a death occurs, the process goes from state $i$ to state $i − 1$.\n",
    "\n",
    "The birth–death process is the most fundamental example of a **queueing model**. This is a queue with Poisson arrivals, drawn from an infinite population, and $C$ servers with exponentially distributed service time with $K$ places in the queue. "
   ]
  },
  {
   "cell_type": "markdown",
   "metadata": {},
   "source": [
    "#### Exercise 4.1. BirthDeath class:\n",
    "\n",
    "Define a general `BirthDeath` class inheriting from the class CTMC in order to initialize the number of states, the rates of forward and backward transitions."
   ]
  },
  {
   "cell_type": "code",
   "execution_count": null,
   "metadata": {},
   "outputs": [],
   "source": [
    "class BirthDeath(CTMC):\n",
    "    ''' Birth-Death Process '''\n",
    "\n",
    "    def __init__(\n",
    "            self,\n",
    "            # complete\n",
    "    ):\n",
    "\n",
    "        \n",
    "    # CODE HERE\n"
   ]
  },
  {
   "cell_type": "markdown",
   "metadata": {},
   "source": [
    "#### Exercise 4.2. Telefone switch:\n",
    "\n",
    "A telephone switch can handle K calls at any\n",
    "one time. Calls arrive according to a Poisson process with rate $\\lambda$. If the switch is\n",
    "already serving K calls when a new call arrives, then the new call is lost. If a call\n",
    "is accepted, it lasts for an $Exp(\\mu)$ amount of time and then terminates. All call\n",
    "durations are independent of each other. Let $X(t)$ be the number of calls that are\n",
    "being handled by the switch at time t. Model $X(t)$ as a CTMC.\n",
    "\n",
    "What if the caller can put a maximum of H callers on hold?"
   ]
  },
  {
   "cell_type": "code",
   "execution_count": null,
   "metadata": {},
   "outputs": [],
   "source": []
  },
  {
   "cell_type": "code",
   "execution_count": null,
   "metadata": {},
   "outputs": [],
   "source": []
  }
 ],
 "metadata": {
  "kernelspec": {
   "display_name": "Python 3",
   "language": "python",
   "name": "python3"
  },
  "language_info": {
   "codemirror_mode": {
    "name": "ipython",
    "version": 3
   },
   "file_extension": ".py",
   "mimetype": "text/x-python",
   "name": "python",
   "nbconvert_exporter": "python",
   "pygments_lexer": "ipython3",
   "version": "3.8.8"
  }
 },
 "nbformat": 4,
 "nbformat_minor": 4
}
