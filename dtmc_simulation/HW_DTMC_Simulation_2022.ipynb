{
 "cells": [
  {
   "cell_type": "code",
   "execution_count": 124,
   "metadata": {},
   "outputs": [],
   "source": [
    "import numpy as np\n",
    "import matplotlib.pyplot as plt\n",
    "import statistics as stats\n",
    "from scipy.stats import norm\n",
    "from IPython import display\n",
    "from time import sleep\n",
    "from ipywidgets import IntProgress\n",
    "\n",
    "# add here the libraries you need"
   ]
  },
  {
   "cell_type": "code",
   "execution_count": 53,
   "metadata": {},
   "outputs": [],
   "source": [
    "# Utilities\n",
    "\n",
    "def is_in_0_1(p):\n",
    "    \"\"\"Check if p is a vector whose elements are in [0,1]\"\"\"\n",
    "    for prob in p:\n",
    "        if 0 > prob or 1 < prob:\n",
    "            return False\n",
    "    return True\n",
    "\n",
    "def is_prob_vector(p):\n",
    "    \"\"\"Check if p is a vector whose elements are in [0,1] and sum up to one\"\"\"\n",
    "    threshold = 1e-10\n",
    "    acc = 0\n",
    "    for prob in p:\n",
    "        acc += prob\n",
    "    return abs(acc - 1) < threshold and is_in_0_1(p)\n",
    "\n",
    "# Just a \"decoration\"\n",
    "class ProgressBar:\n",
    "    \"\"\"Class that models a progress bar for this notebook.\"\"\"\n",
    "    def __init__(self, TOT, dele = False, symbol = \"·\"):\n",
    "        assert TOT > 0\n",
    "        \n",
    "        out = \"0% [\"\n",
    "        for i in range(100): out += \" \"\n",
    "        out += \"]\"\n",
    "        self.dh = display.display(out,display_id=True)\n",
    "        self.i = 0\n",
    "        self.TOT = TOT\n",
    "        self.dele = dele\n",
    "        self.symbol = symbol\n",
    "        \n",
    "    def increment(self):\n",
    "        assert self.i <= self.TOT \n",
    "        percentile = int(self.i/self.TOT * 100)\n",
    "        out = str(percentile) + \"% [\"\n",
    "        for p in range(percentile): out += self.symbol        \n",
    "        for p in range(percentile,100): out += ' '\n",
    "        out += \"]\"\n",
    "        \n",
    "        self.dh.update(out)\n",
    "        self.i += 1\n",
    "        \n",
    "        if self.dele == True and self.i == self.TOT:\n",
    "            print (\"\\033[A                             \\033[A\")"
   ]
  },
  {
   "cell_type": "markdown",
   "metadata": {},
   "source": [
    "# Discrete Time Markov Chains - Part 2\n",
    "This is an exercise notebook on DTMCs. \n",
    "\n",
    "Remember to revise of the lecture on DTMC simulation before attempting to solve it!\n",
    "In order to complete this notebook, you need the models implemented in Part 1 notebook on DTMC."
   ]
  },
  {
   "cell_type": "markdown",
   "metadata": {},
   "source": [
    "### 1. Simulation of DTMC\n",
    "Write a method that simulates a DTMC for `n` steps, where `n` is a parameter of the method, and returns the whole trajectory as output."
   ]
  },
  {
   "cell_type": "code",
   "execution_count": 24,
   "metadata": {},
   "outputs": [],
   "source": [
    "def sample_discrete(N,p):\n",
    "    \"\"\"Computes N samples from discrete probability vector p\"\"\"\n",
    "    n = len(p)\n",
    "    S = np.cumsum(p)\n",
    "    U = np.random.uniform(low=0.0, high=1.0, size=N)\n",
    "    sampled_indexes = np.empty(N)\n",
    "    for j in range(N):\n",
    "        for i in range(n):\n",
    "            if S[i] > U[j]:\n",
    "                sampled_indexes[j] = i\n",
    "                break\n",
    "    return sampled_indexes.astype(int)\n",
    "\n",
    "def simulate_dtmc(transition_model, initial_prob_vector, n):\n",
    "    \"\"\"Given a stocastic matrix, an initial probability vector and the number of steps, simulates a trajectory of the DTMC\"\"\"\n",
    "    assert n > -1, \"Negative amount of steps.\"\n",
    "    current_state = sample_discrete(1,initial_prob_vector)[0]\n",
    "    trajectory = [current_state]\n",
    "    if n == 0:\n",
    "        return trajectory\n",
    "    for i in range(n):\n",
    "        current_state = sample_discrete(1,transition_model[current_state,:])[0]\n",
    "        trajectory.append(current_state)\n",
    "    return trajectory"
   ]
  },
  {
   "cell_type": "code",
   "execution_count": 6,
   "metadata": {
    "tags": [
     "hide-input"
    ]
   },
   "outputs": [],
   "source": [
    "# Model of a birth-death chain created in the previous exercises:\n",
    "def check_vectors(N,p,q):\n",
    "    \"\"\"Function that checks if the vectors for a general birth-death chain of maximum population N are valid\"\"\"\n",
    "    if len(p) != N or len(q) != N: # vectors must be of size N\n",
    "        return False\n",
    "    for i in range(N):\n",
    "        if p[i] + q[i] > 1: # For every state, the sum of the probabilities should not exceed 1\n",
    "            return False\n",
    "    return True\n",
    "\n",
    "def build_transition_birth_death(N, p, q):\n",
    "    \"\"\"Function that builds a transition matrix for a general birth-death chain of maximum population N, \n",
    "    given the vector of probabilities of birth and death\"\"\"\n",
    "    assert check_vectors(N,p,q), \"Wrong vectors.\"\n",
    "    assert N > 0, \"Negative max population\"\n",
    "    \n",
    "    transition_birth_death = np.zeros((N,N))\n",
    "    \n",
    "    transition_birth_death[0,0] = 1 - p[0]\n",
    "    transition_birth_death[0,1] = p[0]\n",
    "    \n",
    "    for i in range(1,N-1):\n",
    "        transition_birth_death[i,i-1] = q[i-1]\n",
    "        transition_birth_death[i,i+1] = p[i]\n",
    "        transition_birth_death[i,i] = 1 - p[i] - q[i-1]\n",
    "        \n",
    "    transition_birth_death[N-1,N-2] = q[N-2]\n",
    "    transition_birth_death[N-1,N-1] = 1 - q[N-2]\n",
    "    \n",
    "    return transition_birth_death\n",
    "\n",
    "N = 5\n",
    "p = np.array([0.2,0.3,0.5,0.6,0.4])\n",
    "q = np.array([0.6,0.5,0.3,0.2,0.5])\n",
    "\n",
    "transition_birth_death = build_transition_birth_death(N,p,q)\n",
    "initial_prob_vector = np.array([0.,0.,1.,0.,0.])"
   ]
  },
  {
   "cell_type": "code",
   "execution_count": 7,
   "metadata": {},
   "outputs": [
    {
     "name": "stdout",
     "output_type": "stream",
     "text": [
      "Simulation of 10 steps: [2, 1, 1, 0, 1, 1, 0, 0, 0, 1, 2]\n"
     ]
    }
   ],
   "source": [
    "trajectory = simulate_dtmc(transition_birth_death, initial_prob_vector, 10)\n",
    "print(\"Simulation of 10 steps:\", trajectory)"
   ]
  },
  {
   "cell_type": "markdown",
   "metadata": {},
   "source": [
    "### 2. Statistical analysis\n",
    "Write methods for:\n",
    "- 2.1. computing the average of a function `f` of the state space, at time step `n`.\n",
    "- 2.2. computing the probability of reaching a target region `A` of the state space by time step `n`.\n",
    "\n",
    "Both methods should use simulation, and return an estimate and a confidence interval at a specified confidence level `alpha` (0.95% by default)."
   ]
  },
  {
   "cell_type": "code",
   "execution_count": 8,
   "metadata": {},
   "outputs": [],
   "source": [
    "def f(trajectory):\n",
    "    \"\"\"Returns the number of times that the state number 3 occurred in the trajectory.\"\"\"\n",
    "    acc = 0\n",
    "    for state in trajectory:\n",
    "        acc += 1 if state == 3 else 0\n",
    "    return acc"
   ]
  },
  {
   "cell_type": "code",
   "execution_count": 9,
   "metadata": {},
   "outputs": [],
   "source": [
    "def confidence_interval(samples, alpha=0.95):\n",
    "    mean = np.mean(samples)\n",
    "    std_dev = np.std(samples, ddof=1)\n",
    "    perc = (1+alpha)/2\n",
    "    q = norm.ppf(perc)\n",
    "    epsilon = q * std_dev / np.sqrt(len(samples))\n",
    "    rhs = round(mean + epsilon, 5)\n",
    "    lhs = round(mean - epsilon, 5)\n",
    "    return (lhs,rhs)"
   ]
  },
  {
   "cell_type": "code",
   "execution_count": 10,
   "metadata": {},
   "outputs": [
    {
     "name": "stdout",
     "output_type": "stream",
     "text": [
      "Wall time: 25.3 s\n"
     ]
    },
    {
     "data": {
      "text/plain": [
       "(1.5766, (1.56753, 1.58567))"
      ]
     },
     "execution_count": 10,
     "metadata": {},
     "output_type": "execute_result"
    }
   ],
   "source": [
    "%%time\n",
    "def f_average(f, transition_model, initial_prob_vector, n, alpha = 0.95):\n",
    "    \"\"\"Computes the average of f by simulation of DTMC of n steps. Arguments: function, stpcastic matrix, initial\n",
    "    probability vector, number of steps and the confidence level. Outputs: the average and the confidence interval.\"\"\"\n",
    "    N_SIM = 100000 # number of simulations\n",
    "    samples = []\n",
    "    for i in range(N_SIM):\n",
    "        trajectory = simulate_dtmc(transition_model, initial_prob_vector, n)\n",
    "        y = f(trajectory)\n",
    "        samples.append(y)\n",
    "    return (np.mean(samples),confidence_interval(samples, alpha))\n",
    "\n",
    "f_average(f,transition_birth_death,initial_prob_vector,10)"
   ]
  },
  {
   "cell_type": "code",
   "execution_count": 11,
   "metadata": {},
   "outputs": [
    {
     "data": {
      "text/plain": [
       "(0.75837, (0.75572, 0.76102))"
      ]
     },
     "execution_count": 11,
     "metadata": {},
     "output_type": "execute_result"
    }
   ],
   "source": [
    "def hit_target(trajectory, target):\n",
    "    \"\"\"Return 1 if the trajectory hit the target region, otherwise 0.\"\"\"\n",
    "    for state in trajectory:\n",
    "        if state in target:\n",
    "            return 1\n",
    "    return 0\n",
    "\n",
    "def target_in_n(transition_model, initial_prob_vector, target, n, alpha=0.95):\n",
    "    \"\"\"Computes the probability, using simulation, of reaching a target region by time step n.\"\"\"\n",
    "    N_SIM = 100000\n",
    "    samples = []\n",
    "    for i in range(N_SIM):\n",
    "        trajectory = simulate_dtmc(transition_model, initial_prob_vector, n)\n",
    "        samples.append(hit_target(trajectory, target))\n",
    "    return (np.mean(samples),confidence_interval(samples, alpha))\n",
    "\n",
    "target_in_n(transition_birth_death, initial_prob_vector, [0,1], 20)"
   ]
  },
  {
   "cell_type": "markdown",
   "metadata": {},
   "source": [
    "### 3. Branching chain\n",
    "Consider a population, in which each individual at each\n",
    "generation independently gives birth to $k$ individuals with\n",
    "probability $p_k$. These will be the members of the next\n",
    "generation. Assume $k\\in\\{-1, 0,1,2\\}$. The population is initial compused of two individuals Adam and Eve."
   ]
  },
  {
   "cell_type": "markdown",
   "metadata": {},
   "source": [
    "#### Premises\n",
    "Since the transition matrix is complex to calculate, especially for a large number of individuals, the simulation of the DTMC will directly computed. This brings two advantages:\n",
    "- There is no need to compute a large stocastic matrix, since the number of individuals (and so the states)\n",
    "- There is no need to define a maximum population, so the individuals can grow free."
   ]
  },
  {
   "cell_type": "code",
   "execution_count": 28,
   "metadata": {},
   "outputs": [
    {
     "name": "stdout",
     "output_type": "stream",
     "text": [
      "Wall time: 393 ms\n"
     ]
    },
    {
     "data": {
      "text/plain": [
       "[2,\n",
       " 4,\n",
       " 5,\n",
       " 6,\n",
       " 9,\n",
       " 17,\n",
       " 22,\n",
       " 31,\n",
       " 48,\n",
       " 69,\n",
       " 98,\n",
       " 149,\n",
       " 239,\n",
       " 385,\n",
       " 549,\n",
       " 783,\n",
       " 1160,\n",
       " 1756,\n",
       " 2626,\n",
       " 4025,\n",
       " 6070]"
      ]
     },
     "execution_count": 28,
     "metadata": {},
     "output_type": "execute_result"
    }
   ],
   "source": [
    "%%time\n",
    "def simulate_branching_chain(initial_pop, k_prob, gen_max):\n",
    "    \"\"\"Simulate a population modelled by a branching chain.\n",
    "    Input: the initial population, a tuple that models the probability of an individual of generating k offsprings \n",
    "    (first entry is the probability to die, second to generate 0 offspirng and so on) and \n",
    "    how many generations it is wanted to simulate. \n",
    "    Output: the evolving of the number of individuals through the generations.\"\"\"\n",
    "    \n",
    "    assert is_prob_vector(k_prob)\n",
    "    assert initial_pop > 0\n",
    "    \n",
    "    pop = [initial_pop]\n",
    "    \n",
    "    for gen in range(gen_max): # simulation for gen_max generations\n",
    "        current_pop = int(pop[-1]) # take the current population\n",
    "        offsprings = 0\n",
    "        for individual in range(current_pop): # for every individual of the population\n",
    "            offsprings += int(sample_discrete(1,k_prob)) - 1 # sum the number of offsprings of the individual to \n",
    "            # the total offsprings of the current population. -1 is due to the indexing: state 0 means -1 individuals born,\n",
    "            # state 1 is 0 individuals born and so on.\n",
    "        pop.append(offsprings + current_pop) # the new generation is composed of the previous population + offspings \n",
    "        # (offsprings can be negative, leading to extintion)\n",
    "        \n",
    "        if int(pop[-1]) == 0:\n",
    "            pop.append(\"Population extinted :(\")\n",
    "            break\n",
    "    \n",
    "    return pop\n",
    "\n",
    "simulate_branching_chain(2, (.2,.3,.3,.2), 20)"
   ]
  },
  {
   "cell_type": "markdown",
   "metadata": {},
   "source": [
    "Assume now that $p_0 = p_1 = p_2 = (1-p_{-1})/3$. Estimate the average and the confidence interval of the probability of the population to become extinct for increasing values of $p_{-1}$."
   ]
  },
  {
   "cell_type": "markdown",
   "metadata": {},
   "source": [
    "The average of the probability of the population to become extint is the absortion probability of hitting the state 0."
   ]
  },
  {
   "cell_type": "code",
   "execution_count": 120,
   "metadata": {},
   "outputs": [],
   "source": [
    "def branching_absortion(initial_pop, k_prob, target, max_gen = 20, N_SIM = 100):\n",
    "    \"\"\"Computes an estimation of the absortion probability of hitting a target region of \n",
    "    a branching chain using simulation.\n",
    "    Input: the initial population, a tuple describing the probability of generating k individuals, \n",
    "    with -1 <= k < max_offsping and a vector of states representing the target region; \n",
    "    Optional: The number of generations of the trajectories, default is 20 and the number of simulations, default is 100.\"\"\"\n",
    "    \n",
    "    samples = []\n",
    "    \n",
    "    p = IntProgress(min=0,max=N_SIM)\n",
    "    display.display(p)\n",
    "    \n",
    "    for i in range(N_SIM):\n",
    "        trajectory = simulate_branching_chain(initial_pop, k_prob, max_gen)\n",
    "        samples.append(hit_target(trajectory, target))\n",
    "        p.value += 1\n",
    "    \n",
    "    p.bar_style = \"success\"\n",
    "    p.close()\n",
    "    \n",
    "    return (np.mean(samples), confidence_interval(samples))"
   ]
  },
  {
   "cell_type": "code",
   "execution_count": 121,
   "metadata": {},
   "outputs": [
    {
     "data": {
      "application/vnd.jupyter.widget-view+json": {
       "model_id": "",
       "version_major": 2,
       "version_minor": 0
      },
      "text/plain": [
       "IntProgress(value=0)"
      ]
     },
     "metadata": {},
     "output_type": "display_data"
    },
    {
     "name": "stdout",
     "output_type": "stream",
     "text": [
      "The probability of extintion is 0.12 . 95% confidence interval: ( 0.05599 , 0.18401 ).\n",
      "Wall time: 1.26 s\n"
     ]
    }
   ],
   "source": [
    "%%time\n",
    "initial_population = 2\n",
    "k_prob = (.2,.3,.3,.2)\n",
    "target = [0]\n",
    "\n",
    "result = branching_absortion(initial_population, k_prob, target, 10)\n",
    "print(\"The probability of extintion is\",result[0],\". 95% confidence interval: (\",result[1][0], \",\", result[1][1], \").\")"
   ]
  },
  {
   "cell_type": "code",
   "execution_count": 131,
   "metadata": {},
   "outputs": [
    {
     "data": {
      "image/png": "[encoded data removed]",
      "text/plain": [
       "<Figure size 432x288 with 1 Axes>"
      ]
     },
     "metadata": {
      "needs_background": "light"
     },
     "output_type": "display_data"
    }
   ],
   "source": [
    "def extintion_different_pk(initial_pop, target, death_probs = np.linspace(0,1,20), max_gen = 10, N_SIM = 30):\n",
    "    \"\"\"Computes the estimation of extintion with different death probabilities\"\"\"\n",
    "    estimated_probs = []\n",
    "    p = IntProgress(min=0,max=len(death_probs))\n",
    "    display.display(p)\n",
    "    for i in range(len(death_probs)):\n",
    "        death_prob = death_probs[i]\n",
    "        birth_prob = (1. - death_prob) / 3\n",
    "        k_prob = (death_prob, birth_prob, birth_prob, birth_prob)\n",
    "        estimated_probs.append(branching_absortion(initial_pop, k_prob, target, max_gen, N_SIM)[0])\n",
    "        p.value += 1\n",
    "    \n",
    "    p.bar_style = \"success\"\n",
    "    display.clear_output()\n",
    "    plt.plot(death_probs,estimated_probs)\n",
    "    plt.scatter(death_probs,estimated_probs)\n",
    "    plt.title(\"Probability of exstintion vs death probability\")\n",
    "    plt.xlabel(\"Death probability\")\n",
    "    plt.ylabel(\"Probability of exstintion\")\n",
    "    return estimated_probs\n",
    "\n",
    "estimated_probs = extintion_different_pk(2,[0])"
   ]
  },
  {
   "cell_type": "code",
   "execution_count": null,
   "metadata": {},
   "outputs": [],
   "source": []
  }
 ],
 "metadata": {
  "kernelspec": {
   "display_name": "Python 3",
   "language": "python",
   "name": "python3"
  },
  "language_info": {
   "codemirror_mode": {
    "name": "ipython",
    "version": 3
   },
   "file_extension": ".py",
   "mimetype": "text/x-python",
   "name": "python",
   "nbconvert_exporter": "python",
   "pygments_lexer": "ipython3",
   "version": "3.8.8"
  }
 },
 "nbformat": 4,
 "nbformat_minor": 2
}
