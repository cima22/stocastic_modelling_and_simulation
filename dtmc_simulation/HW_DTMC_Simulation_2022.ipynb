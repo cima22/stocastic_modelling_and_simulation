{
 "cells": [
  {
   "cell_type": "code",
   "execution_count": 16,
   "metadata": {},
   "outputs": [],
   "source": [
    "import numpy as np\n",
    "import matplotlib.pyplot as plt\n",
    "import statistics as stats\n",
    "from scipy.stats import norm\n",
    "from IPython import display\n",
    "from ipywidgets import IntProgress\n",
    "# add here the libraries you need"
   ]
  },
  {
   "cell_type": "code",
   "execution_count": 17,
   "metadata": {},
   "outputs": [],
   "source": [
    "# Utilities\n",
    "\n",
    "def is_in_0_1(p):\n",
    "    \"\"\"Check if p is a vector whose elements are in [0,1]\"\"\"\n",
    "    for prob in p:\n",
    "        if 0 > prob or 1 < prob:\n",
    "            return False\n",
    "    return True\n",
    "\n",
    "def is_prob_vector(p):\n",
    "    \"\"\"Check if p is a vector whose elements are in [0,1] and sum up to one\"\"\"\n",
    "    threshold = 1e-10\n",
    "    acc = 0\n",
    "    for prob in p:\n",
    "        acc += prob\n",
    "    return abs(acc - 1) < threshold and is_in_0_1(p)"
   ]
  },
  {
   "cell_type": "markdown",
   "metadata": {},
   "source": [
    "# Discrete Time Markov Chains - Part 2\n",
    "This is an exercise notebook on DTMCs. \n",
    "\n",
    "Remember to revise of the lecture on DTMC simulation before attempting to solve it!\n",
    "In order to complete this notebook, you need the models implemented in Part 1 notebook on DTMC."
   ]
  },
  {
   "cell_type": "markdown",
   "metadata": {},
   "source": [
    "### 1. Simulation of DTMC\n",
    "Write a method that simulates a DTMC for `n` steps, where `n` is a parameter of the method, and returns the whole trajectory as output."
   ]
  },
  {
   "cell_type": "code",
   "execution_count": 18,
   "metadata": {},
   "outputs": [],
   "source": [
    "def sample_discrete(N,p):\n",
    "    \"\"\"Computes N samples from discrete probability vector p\"\"\"\n",
    "    n = len(p)\n",
    "    S = np.cumsum(p)\n",
    "    U = np.random.uniform(low=0.0, high=1.0, size=N)\n",
    "    sampled_indexes = np.empty(N)\n",
    "    for j in range(N):\n",
    "        for i in range(n):\n",
    "            if S[i] > U[j]:\n",
    "                sampled_indexes[j] = i\n",
    "                break\n",
    "    return sampled_indexes.astype(int)\n",
    "\n",
    "def simulate_dtmc(transition_model, initial_prob_vector, n):\n",
    "    \"\"\"Given a stocastic matrix, an initial probability vector and the number of steps, simulates a trajectory of the DTMC\"\"\"\n",
    "    assert n > -1, \"Negative amount of steps.\"\n",
    "    current_state = sample_discrete(1,initial_prob_vector)[0]\n",
    "    trajectory = [current_state]\n",
    "    if n == 0:\n",
    "        return trajectory\n",
    "    for i in range(n):\n",
    "        current_state = sample_discrete(1,transition_model[current_state,:])[0]\n",
    "        trajectory.append(current_state)\n",
    "    return trajectory"
   ]
  },
  {
   "cell_type": "code",
   "execution_count": 19,
   "metadata": {
    "tags": [
     "hide-input"
    ]
   },
   "outputs": [],
   "source": [
    "# Model of a birth-death chain created in the previous exercises:\n",
    "def check_vectors(N,p,q):\n",
    "    \"\"\"Function that checks if the vectors for a general birth-death chain of maximum population N are valid\"\"\"\n",
    "    if len(p) != N or len(q) != N: # vectors must be of size N\n",
    "        return False\n",
    "    for i in range(N):\n",
    "        if p[i] + q[i] > 1: # For every state, the sum of the probabilities should not exceed 1\n",
    "            return False\n",
    "    return True\n",
    "\n",
    "def build_transition_birth_death(N, p, q):\n",
    "    \"\"\"Function that builds a transition matrix for a general birth-death chain of maximum population N, \n",
    "    given the vector of probabilities of birth and death\"\"\"\n",
    "    assert check_vectors(N,p,q), \"Wrong vectors.\"\n",
    "    assert N > 0, \"Negative max population\"\n",
    "    \n",
    "    transition_birth_death = np.zeros((N,N))\n",
    "    \n",
    "    transition_birth_death[0,0] = 1 - p[0]\n",
    "    transition_birth_death[0,1] = p[0]\n",
    "    \n",
    "    for i in range(1,N-1):\n",
    "        transition_birth_death[i,i-1] = q[i-1]\n",
    "        transition_birth_death[i,i+1] = p[i]\n",
    "        transition_birth_death[i,i]   = 1 - p[i] - q[i-1]\n",
    "        \n",
    "    transition_birth_death[N-1,N-2] = q[N-2]\n",
    "    transition_birth_death[N-1,N-1] = 1 - q[N-2]\n",
    "    \n",
    "    return transition_birth_death"
   ]
  },
  {
   "cell_type": "code",
   "execution_count": 20,
   "metadata": {},
   "outputs": [],
   "source": [
    "N = 5\n",
    "p = np.array([0.2,0.3,0.5,0.6,0.4])\n",
    "q = np.array([0.6,0.5,0.3,0.2,0.5])\n",
    "\n",
    "transition_birth_death = build_transition_birth_death(N,p,q)\n",
    "initial_prob_vector = np.array([0.,0.,1.,0.,0.])"
   ]
  },
  {
   "cell_type": "code",
   "execution_count": 21,
   "metadata": {},
   "outputs": [
    {
     "name": "stdout",
     "output_type": "stream",
     "text": [
      "Simulation of 10 steps of a birth-death chain: [2, 1, 2, 3, 3, 4, 4, 4, 4, 3, 4]\n"
     ]
    }
   ],
   "source": [
    "trajectory = simulate_dtmc(transition_birth_death, initial_prob_vector, 10)\n",
    "print(\"Simulation of 10 steps of a birth-death chain:\", trajectory)"
   ]
  },
  {
   "cell_type": "markdown",
   "metadata": {},
   "source": [
    "### 2. Statistical analysis\n",
    "Write methods for:\n",
    "- 2.1. computing the average of a function `f` of the state space, at time step `n`.\n",
    "- 2.2. computing the probability of reaching a target region `A` of the state space by time step `n`.\n",
    "\n",
    "Both methods should use simulation, and return an estimate and a confidence interval at a specified confidence level `alpha` (0.95% by default)."
   ]
  },
  {
   "cell_type": "code",
   "execution_count": 22,
   "metadata": {},
   "outputs": [],
   "source": [
    "def f(state):\n",
    "    \"\"\"Returns the second power of the state if the state is even, 0 if odd.\"\"\"\n",
    "    return state**2 if state % 2 == 0 else 0"
   ]
  },
  {
   "cell_type": "code",
   "execution_count": 23,
   "metadata": {},
   "outputs": [],
   "source": [
    "def confidence_interval(samples, alpha=0.95):\n",
    "    mean = np.mean(samples)\n",
    "    std_dev = np.std(samples, ddof=1)\n",
    "    perc = (1+alpha)/2\n",
    "    q = norm.ppf(perc)\n",
    "    epsilon = q * std_dev / np.sqrt(len(samples))\n",
    "    rhs = round(mean + epsilon, 5)\n",
    "    lhs = round(mean - epsilon, 5)\n",
    "    return (lhs,rhs)"
   ]
  },
  {
   "cell_type": "code",
   "execution_count": 27,
   "metadata": {},
   "outputs": [],
   "source": [
    "def f_average_n(f, transition_model, initial_prob_vector, n, alpha = 0.95):\n",
    "    \"\"\"Computes the average of a function f of the state space at time step n, using simulation.\n",
    "    Input: function, stpcastic matrix, initial probability vector, number of steps and the confidence level.\n",
    "    Output: the average and the confidence interval.\"\"\"\n",
    "    \n",
    "    N_SIM = 10000 # number of simulations\n",
    "    samples = []\n",
    "    \n",
    "    ############### Progress Bar ################################\n",
    "    p = IntProgress(min=0,max=N_SIM)\n",
    "    display.display(p)\n",
    "    #############################################################\n",
    "    \n",
    "    for i in range(N_SIM):\n",
    "        \n",
    "        trajectory = simulate_dtmc(transition_model, initial_prob_vector, n)\n",
    "        y = f(int(trajectory[n]))\n",
    "        samples.append(y)\n",
    "        \n",
    "        ####### Progress Bar ######\n",
    "        p.value += 1\n",
    "        ###########################\n",
    "        \n",
    "    p.bar_style = \"success\"\n",
    "    \n",
    "    return (np.mean(samples),confidence_interval(samples, alpha))"
   ]
  },
  {
   "cell_type": "code",
   "execution_count": 26,
   "metadata": {},
   "outputs": [
    {
     "data": {
      "application/vnd.jupyter.widget-view+json": {
       "model_id": "a10f9062ccb845b0996b59a4c86587e2",
       "version_major": 2,
       "version_minor": 0
      },
      "text/plain": [
       "IntProgress(value=0, max=10000)"
      ]
     },
     "metadata": {},
     "output_type": "display_data"
    },
    {
     "name": "stdout",
     "output_type": "stream",
     "text": [
      "Average: 5.8484 . 95% confidence interval: ( 5.70194 , 5.99486 ).\n",
      "Wall time: 23.7 s\n"
     ]
    }
   ],
   "source": [
    "%%time\n",
    "\n",
    "result = f_average_n(f,transition_birth_death,initial_prob_vector, n = 10)\n",
    "print(\"Average:\", result[0], \". 95% confidence interval: (\", result[1][0], \",\", result[1][1], \").\")"
   ]
  },
  {
   "cell_type": "code",
   "execution_count": 31,
   "metadata": {},
   "outputs": [],
   "source": [
    "def hit_target(trajectory, target):\n",
    "    \"\"\"Return 1 if the trajectory hit the target region, otherwise 0.\"\"\"\n",
    "    for state in trajectory:\n",
    "        if state in target:\n",
    "            return 1\n",
    "    return 0\n",
    "\n",
    "def target_in_n(transition_model, initial_prob_vector, target, n, alpha=0.95):\n",
    "    \"\"\"Computes the probability, using simulation, of reaching a target region by time step n.\"\"\"\n",
    "    N_SIM = 10000\n",
    "    samples = []\n",
    "    \n",
    "    ############### Progress Bar ################################\n",
    "    p = IntProgress(min=0,max=N_SIM)\n",
    "    display.display(p)\n",
    "    #############################################################\n",
    "\n",
    "    for i in range(N_SIM):\n",
    "        trajectory = simulate_dtmc(transition_model, initial_prob_vector, n)\n",
    "        samples.append(hit_target(trajectory, target))\n",
    "        \n",
    "        ####### Progress Bar ######\n",
    "        p.value += 1\n",
    "        ###########################\n",
    "\n",
    "    p.bar_style = \"success\"\n",
    "    return (np.mean(samples),confidence_interval(samples, alpha))"
   ]
  },
  {
   "cell_type": "code",
   "execution_count": 35,
   "metadata": {},
   "outputs": [
    {
     "data": {
      "application/vnd.jupyter.widget-view+json": {
       "model_id": "04e9832c01594771887c7118cc08cadd",
       "version_major": 2,
       "version_minor": 0
      },
      "text/plain": [
       "IntProgress(value=0, max=10000)"
      ]
     },
     "metadata": {},
     "output_type": "display_data"
    },
    {
     "name": "stdout",
     "output_type": "stream",
     "text": [
      "Probability of hitting [0, 1] by 20 steps: 0.7555 .\n",
      "95% confidence interval: ( 0.74708 , 0.76392 ).\n",
      "Wall time: 29.6 s\n"
     ]
    }
   ],
   "source": [
    "%%time\n",
    "\n",
    "target = [0,1]\n",
    "n = 20\n",
    "\n",
    "result = target_in_n(transition_birth_death, initial_prob_vector, target, n)\n",
    "\n",
    "print(\"Probability of hitting\", target, \"by\", n, \"steps:\", result[0], \\\n",
    "      \"\\n95% confidence interval: (\", result[1][0], \",\", result[1][1], \")\")"
   ]
  },
  {
   "cell_type": "markdown",
   "metadata": {},
   "source": [
    "### 3. Branching chain\n",
    "Consider a population, in which each individual at each\n",
    "generation independently gives birth to $k$ individuals with\n",
    "probability $p_k$. These will be the members of the next\n",
    "generation. Assume $k\\in\\{-1, 0,1,2\\}$. The population is initial compused of two individuals Adam and Eve."
   ]
  },
  {
   "cell_type": "markdown",
   "metadata": {},
   "source": [
    "#### Premises\n",
    "Since the transition matrix is complex to calculate, especially for a large number of individuals, the simulation of the DTMC will be directly computed without defyning the transition matrix. This method has two advantages:\n",
    "- There is no need to define a maximum population, so the individuals can grow free.\n",
    "- There is no need to compute a large stocastic matrix, even if the number of individuals (and so the states) become large"
   ]
  },
  {
   "cell_type": "code",
   "execution_count": 73,
   "metadata": {},
   "outputs": [],
   "source": [
    "def simulate_branching_chain(initial_pop, k_prob, gen_max):\n",
    "    \"\"\"Simulate a population modelled by a branching chain.\n",
    "    Input: the initial population, a tuple that models the probability of an individual of generating k offsprings \n",
    "    (first entry is the probability to die, second to generate 0 offspirng and so on) and \n",
    "    for how many generations to simulate.\n",
    "    Output: the evolving of the number of individuals through the generations.\"\"\"\n",
    "    \n",
    "    assert is_prob_vector(k_prob)\n",
    "    assert initial_pop > 0\n",
    "    \n",
    "    pop = [initial_pop]\n",
    "    \n",
    "    for gen in range(gen_max): # simulation for gen_max generations\n",
    "        current_pop = int(pop[-1]) # take the current population\n",
    "        offsprings = 0\n",
    "        for individual in range(current_pop): # for every individual of the population\n",
    "            \n",
    "            offspring = int(sample_discrete(N = 1, p = k_prob)) - 1 \n",
    "            # -1 is due to the indexing: state 0 means -1 individuals born, state 1 is 0 individuals born and so on.\n",
    "            \n",
    "            offsprings += offspring # sum the number of offsprings of the individual to \n",
    "            # the total offsprings of the current population. \n",
    "            \n",
    "        pop.append(offsprings + current_pop) # the new generation is composed of the previous population + offspings \n",
    "        # (offsprings can be negative, leading to extintion)\n",
    "        \n",
    "        if int(pop[-1]) == 0:\n",
    "            break\n",
    "    \n",
    "    return pop"
   ]
  },
  {
   "cell_type": "code",
   "execution_count": 96,
   "metadata": {},
   "outputs": [
    {
     "data": {
      "image/png": "[encoded data removed]",
      "text/plain": [
       "<Figure size 432x288 with 1 Axes>"
      ]
     },
     "metadata": {
      "needs_background": "light"
     },
     "output_type": "display_data"
    }
   ],
   "source": [
    "initial_population = 2\n",
    "birth_probability  = ((.3,.2,.3,.2))\n",
    "max_generation = 20\n",
    "\n",
    "evolution = simulate_branching_chain(initial_population, birth_probability, max_generation)\n",
    "    \n",
    "plt.plot(range(len(evolution)), evolution, alpha=0.33)\n",
    "plt.scatter(range(len(evolution)), evolution)\n",
    "plt.xticks(range(len(evolution)))\n",
    "plt.show()"
   ]
  },
  {
   "cell_type": "markdown",
   "metadata": {},
   "source": [
    "Assume now that $p_0 = p_1 = p_2 = (1-p_{-1})/3$. Estimate the average and the confidence interval of the probability of the population to become extinct for increasing values of $p_{-1}$."
   ]
  },
  {
   "cell_type": "markdown",
   "metadata": {},
   "source": [
    "The average of the probability of the population to become extint is the absortion probability of hitting the state 0."
   ]
  },
  {
   "cell_type": "code",
   "execution_count": 57,
   "metadata": {},
   "outputs": [],
   "source": [
    "def branching_absortion(initial_pop, k_prob, target, max_gen = 20, N_SIM = 100):\n",
    "    \"\"\"Computes an estimation of the absortion probability of hitting a target region of \n",
    "    a branching chain using simulation.\n",
    "    Input: the initial population, a tuple describing the probability of generating k individuals, \n",
    "    with -1 <= k < max_offsping and a vector of states representing the target region; \n",
    "    Optional: The number of generations of the trajectories, default is 20 and the number of simulations, default is 100.\"\"\"\n",
    "    \n",
    "    samples = []\n",
    "    \n",
    "    ############### Progress Bar #############################################\n",
    "    p = IntProgress(min=0,max=N_SIM, description = \"P₋₁ = \" + str(k_prob[0]))\n",
    "    display.display(p)\n",
    "    ##########################################################################\n",
    "    \n",
    "    for i in range(N_SIM):\n",
    "        trajectory = simulate_branching_chain(initial_pop, k_prob, max_gen)\n",
    "        samples.append(hit_target(trajectory, target))\n",
    "    \n",
    "        ####### Progress Bar ######\n",
    "        p.value += 1\n",
    "        ###########################\n",
    "    \n",
    "    p.bar_style = \"success\"\n",
    "    \n",
    "    return (np.mean(samples), confidence_interval(samples))"
   ]
  },
  {
   "cell_type": "code",
   "execution_count": 60,
   "metadata": {},
   "outputs": [
    {
     "data": {
      "application/vnd.jupyter.widget-view+json": {
       "model_id": "1fcabcbc50ca48aeb98943eda8a9b512",
       "version_major": 2,
       "version_minor": 0
      },
      "text/plain": [
       "IntProgress(value=0, description='P₋₁ = 0.2', max=200)"
      ]
     },
     "metadata": {},
     "output_type": "display_data"
    },
    {
     "name": "stdout",
     "output_type": "stream",
     "text": [
      "The probability of extintion is 0.115 \n",
      "95% confidence interval: ( 0.07068 , 0.15932 )\n",
      "Wall time: 1min 17s\n"
     ]
    }
   ],
   "source": [
    "%%time\n",
    "initial_population = 2\n",
    "k_prob = (.2,.3,.3,.2)\n",
    "target = [0]\n",
    "\n",
    "result = branching_absortion(initial_population, k_prob, target, N_SIM = 200)\n",
    "print(\"The probability of extintion is\",result[0], \\\n",
    "      \"\\n95% confidence interval: (\",result[1][0], \",\", result[1][1], \")\")"
   ]
  },
  {
   "cell_type": "code",
   "execution_count": 68,
   "metadata": {},
   "outputs": [
    {
     "data": {
      "image/png": "[encoded data removed]",
      "text/plain": [
       "<Figure size 432x288 with 1 Axes>"
      ]
     },
     "metadata": {
      "needs_background": "light"
     },
     "output_type": "display_data"
    }
   ],
   "source": [
    "def extintion_different_pk(initial_pop, target, death_probs = np.linspace(0,1,20), max_gen = 15, N_SIM = 80):\n",
    "    \"\"\"Computes the estimation of extintion with different death probabilities\"\"\"\n",
    "    estimated_probs = []\n",
    "    \n",
    "    ############### Progress Bar #############################################\n",
    "    p = IntProgress(min=0,max=len(death_probs))\n",
    "    display.display(p)\n",
    "    ##########################################################################\n",
    "    \n",
    "    for i in range(len(death_probs)):\n",
    "        death_prob = death_probs[i]\n",
    "        birth_prob = (1. - death_prob) / 3\n",
    "        k_prob = (death_prob, birth_prob, birth_prob, birth_prob)\n",
    "        estimated_probs.append(branching_absortion(initial_pop, k_prob, target, max_gen, N_SIM)[0])\n",
    "    \n",
    "        ####### Progress Bar ######\n",
    "        p.value += 1\n",
    "        ###########################\n",
    "    \n",
    "    p.bar_style = \"success\"\n",
    "    display.clear_output()\n",
    "    \n",
    "    plt.plot(death_probs,estimated_probs,alpha=.33)\n",
    "    plt.scatter(death_probs,estimated_probs)\n",
    "    plt.title(\"Probability of extinction vs death probability\")\n",
    "    plt.xlabel(\"Death probability\")\n",
    "    plt.ylabel(\"Probability of extinction\")\n",
    "    \n",
    "    return estimated_probs\n",
    "\n",
    "initial_population = 2\n",
    "target = [0]\n",
    "\n",
    "estimated_probs = extintion_different_pk(initial_population, target)"
   ]
  },
  {
   "cell_type": "code",
   "execution_count": null,
   "metadata": {},
   "outputs": [],
   "source": []
  }
 ],
 "metadata": {
  "kernelspec": {
   "display_name": "Python 3",
   "language": "python",
   "name": "python3"
  },
  "language_info": {
   "codemirror_mode": {
    "name": "ipython",
    "version": 3
   },
   "file_extension": ".py",
   "mimetype": "text/x-python",
   "name": "python",
   "nbconvert_exporter": "python",
   "pygments_lexer": "ipython3",
   "version": "3.8.8"
  }
 },
 "nbformat": 4,
 "nbformat_minor": 2
}
