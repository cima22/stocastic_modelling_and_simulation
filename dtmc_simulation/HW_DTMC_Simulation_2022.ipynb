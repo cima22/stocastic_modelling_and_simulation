{
 "cells": [
  {
   "cell_type": "code",
   "execution_count": 1,
   "metadata": {},
   "outputs": [],
   "source": [
    "import numpy as np\n",
    "import statistics as stats\n",
    "from scipy.stats import norm\n",
    "# add here the libraries you need"
   ]
  },
  {
   "cell_type": "markdown",
   "metadata": {},
   "source": [
    "# Discrete Time Markov Chains - Part 2\n",
    "This is an exercise notebook on DTMCs. \n",
    "\n",
    "Remember to revise of the lecture on DTMC simulation before attempting to solve it!\n",
    "In order to complete this notebook, you need the models implemented in Part 1 notebook on DTMC."
   ]
  },
  {
   "cell_type": "markdown",
   "metadata": {},
   "source": [
    "### 1. Simulation of DTMC\n",
    "Write a method that simulates a DTMC for `n` steps, where `n` is a parameter of the method, and returns the whole trajectory as output."
   ]
  },
  {
   "cell_type": "code",
   "execution_count": 2,
   "metadata": {},
   "outputs": [],
   "source": [
    "def sample_discrete(N,p):\n",
    "    \"\"\"Computes N samples from discrete probability vector p\"\"\"\n",
    "    n = len(p)\n",
    "    S = np.cumsum(p)\n",
    "    U = np.random.uniform(low=0.0, high=1.0, size=N)\n",
    "    sampled_indexes = np.empty(N)\n",
    "    for j in range(N):\n",
    "        for i in range(n):\n",
    "            if S[i] > U[j]:\n",
    "                sampled_indexes[j] = i\n",
    "                break\n",
    "    return sampled_indexes.astype(int)\n",
    "\n",
    "def simulate_dtmc(transition_model, initial_prob_vector, n):\n",
    "    \"\"\"Given a stocastic matrix, an initial probability vector and the number of steps, simulates a trajectory of the DTMC\"\"\"\n",
    "    assert n > -1, \"Negative amount of steps.\"\n",
    "    current_state = sample_discrete(1,initial_prob_vector)[0]\n",
    "    trajectory = [current_state]\n",
    "    if n == 0:\n",
    "        return trajectory\n",
    "    for i in range(n):\n",
    "        current_state = sample_discrete(1,transition_model[current_state,:])[0]\n",
    "        trajectory.append(current_state)\n",
    "    return trajectory"
   ]
  },
  {
   "cell_type": "code",
   "execution_count": 3,
   "metadata": {
    "tags": [
     "hide-input"
    ]
   },
   "outputs": [],
   "source": [
    "# Model of a birth-death chain created in the previous exercises:\n",
    "def check_vectors(N,p,q):\n",
    "    \"\"\"Function that checks if the vectors for a general birth-death chain of maximum population N are valid\"\"\"\n",
    "    if len(p) != N or len(q) != N: # vectors must be of size N\n",
    "        return False\n",
    "    for i in range(N):\n",
    "        if p[i] + q[i] > 1: # For every state, the sum of the probabilities should not exceed 1\n",
    "            return False\n",
    "    return True\n",
    "\n",
    "def build_transition_birth_death(N, p, q):\n",
    "    \"\"\"Function that builds a transition matrix for a general birth-death chain of maximum population N, \n",
    "    given the vector of probabilities of birth and death\"\"\"\n",
    "    assert check_vectors(N,p,q), \"Wrong vectors.\"\n",
    "    assert N > 0, \"Negative max population\"\n",
    "    \n",
    "    transition_birth_death = np.zeros((N,N))\n",
    "    \n",
    "    transition_birth_death[0,0] = 1 - p[0]\n",
    "    transition_birth_death[0,1] = p[0]\n",
    "    \n",
    "    for i in range(1,N-1):\n",
    "        transition_birth_death[i,i-1] = q[i-1]\n",
    "        transition_birth_death[i,i+1] = p[i]\n",
    "        transition_birth_death[i,i] = 1 - p[i] - q[i-1]\n",
    "        \n",
    "    transition_birth_death[N-1,N-2] = q[N-2]\n",
    "    transition_birth_death[N-1,N-1] = 1 - q[N-2]\n",
    "    \n",
    "    return transition_birth_death\n",
    "\n",
    "N = 5\n",
    "p = np.array([0.2,0.3,0.5,0.6,0.4])\n",
    "q = np.array([0.6,0.5,0.3,0.2,0.5])\n",
    "\n",
    "transition_birth_death = build_transition_birth_death(N,p,q)\n",
    "initial_prob_vector = np.array([0.,0.,1.,0.,0.])"
   ]
  },
  {
   "cell_type": "code",
   "execution_count": 4,
   "metadata": {},
   "outputs": [
    {
     "name": "stdout",
     "output_type": "stream",
     "text": [
      "Simulation of 10 steps: [2, 3, 4, 4, 3, 4, 4, 3, 3, 2, 3]\n"
     ]
    }
   ],
   "source": [
    "trajectory = simulate_dtmc(transition_birth_death, initial_prob_vector, 10)\n",
    "print(\"Simulation of 10 steps:\", trajectory)"
   ]
  },
  {
   "cell_type": "markdown",
   "metadata": {},
   "source": [
    "### 2. Statistical analysis\n",
    "Write methods for:\n",
    "- 2.1. computing the average of a function `f` of the state space, at time step `n`.\n",
    "- 2.2. computing the probability of reaching a target region `A` of the state space by time step `n`.\n",
    "\n",
    "Both methods should use simulation, and return an estimate and a confidence interval at a specified confidence level `alpha` (0.95% by default)."
   ]
  },
  {
   "cell_type": "code",
   "execution_count": 5,
   "metadata": {},
   "outputs": [],
   "source": [
    "def f(trajectory):\n",
    "    \"\"\"Returns the number of times that the state number 3 occurred in the trajectory.\"\"\"\n",
    "    acc = 0\n",
    "    for state in trajectory:\n",
    "        acc += 1 if state == 3 else 0\n",
    "    return acc"
   ]
  },
  {
   "cell_type": "code",
   "execution_count": 18,
   "metadata": {},
   "outputs": [],
   "source": [
    "def confidence_interval(samples, alpha=0.95):\n",
    "    mean = np.mean(samples)\n",
    "    std_dev = np.std(samples, ddof=1)\n",
    "    perc = (1+alpha)/2\n",
    "    q = norm.ppf(perc)\n",
    "    epsilon = q * std_dev / np.sqrt(len(samples))\n",
    "    rhs = mean + epsilon\n",
    "    lhs = mean - epsilon\n",
    "    return (lhs,rhs)"
   ]
  },
  {
   "cell_type": "code",
   "execution_count": 21,
   "metadata": {},
   "outputs": [
    {
     "name": "stdout",
     "output_type": "stream",
     "text": [
      "Wall time: 10.9 s\n"
     ]
    },
    {
     "data": {
      "text/plain": [
       "(1.58375, (1.5746536817696737, 1.5928463182303263))"
      ]
     },
     "execution_count": 21,
     "metadata": {},
     "output_type": "execute_result"
    }
   ],
   "source": [
    "%%time\n",
    "def f_average(f, transition_model, initial_prob_vector, n, alpha = 0.95):\n",
    "    \"\"\"Computes the average of f by simulation of DTMC of n steps. Arguments: function, stpcastic matrix, initial\n",
    "    probability vector, number of steps and the confidence level. Outputs: the average and the confidence interval.\"\"\"\n",
    "    N_SIM = 100000 # number of simulations\n",
    "    samples = []\n",
    "    for i in range(N_SIM):\n",
    "        trajectory = simulate_dtmc(transition_model, initial_prob_vector, n)\n",
    "        y = f(trajectory)\n",
    "        samples.append(y)\n",
    "    return (np.mean(samples),confidence_interval(samples, alpha))\n",
    "\n",
    "def target_in_n(transition_model, initial_prob_vector, target, n):\n",
    "    \"\"\"Computes the probability, using simulation, of reaching a target region by time step n.\"\"\"\n",
    "    pass\n",
    "\n",
    "f_average(f,transition_birth_death,initial_prob_vector,10)"
   ]
  },
  {
   "cell_type": "markdown",
   "metadata": {},
   "source": [
    "### 3. Branching chain\n",
    "Consider a population, in which each individual at each\n",
    "generation independently gives birth to $k$ individuals with\n",
    "probability $p_k$. These will be the members of the next\n",
    "generation. Assume $k\\in\\{-1, 0,1,2\\}$. The population is initial compused of two individuals Adam and Eve."
   ]
  },
  {
   "cell_type": "code",
   "execution_count": 110,
   "metadata": {},
   "outputs": [
    {
     "data": {
      "text/plain": [
       "1.959963984540054"
      ]
     },
     "execution_count": 110,
     "metadata": {},
     "output_type": "execute_result"
    }
   ],
   "source": [
    "norm.ppf(0.975)"
   ]
  },
  {
   "cell_type": "markdown",
   "metadata": {},
   "source": [
    "Assume now that $p_0 = p_1 = p_2 = (1-p_{-1})/3$. Estimate the average and the confidence interval of the probability of the population to become extinct for increasing values of $p_{-1}$."
   ]
  },
  {
   "cell_type": "code",
   "execution_count": null,
   "metadata": {},
   "outputs": [],
   "source": []
  }
 ],
 "metadata": {
  "kernelspec": {
   "display_name": "Python 3",
   "language": "python",
   "name": "python3"
  },
  "language_info": {
   "codemirror_mode": {
    "name": "ipython",
    "version": 3
   },
   "file_extension": ".py",
   "mimetype": "text/x-python",
   "name": "python",
   "nbconvert_exporter": "python",
   "pygments_lexer": "ipython3",
   "version": "3.8.8"
  }
 },
 "nbformat": 4,
 "nbformat_minor": 2
}
