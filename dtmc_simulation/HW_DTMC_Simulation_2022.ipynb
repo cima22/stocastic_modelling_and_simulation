{
 "cells": [
  {
   "cell_type": "code",
   "execution_count": 1,
   "metadata": {},
   "outputs": [],
   "source": [
    "import numpy as np\n",
    "# add here the libraries you need"
   ]
  },
  {
   "cell_type": "markdown",
   "metadata": {},
   "source": [
    "# Discrete Time Markov Chains - Part 2\n",
    "This is an exercise notebook on DTMCs. \n",
    "\n",
    "Remember to revise of the lecture on DTMC simulation before attempting to solve it!\n",
    "In order to complete this notebook, you need the models implemented in Part 1 notebook on DTMC."
   ]
  },
  {
   "cell_type": "markdown",
   "metadata": {},
   "source": [
    "### 1. Simulation of DTMC\n",
    "Write a method that simulates a DTMC for `n` steps, where `n` is a parameter of the method, and returns the whole trajectory as output."
   ]
  },
  {
   "cell_type": "code",
   "execution_count": null,
   "metadata": {},
   "outputs": [],
   "source": []
  },
  {
   "cell_type": "markdown",
   "metadata": {},
   "source": [
    "### 2. Statistical analysis\n",
    "Write methods for:\n",
    "- 2.1. computing the average of a function `f` of the state space, at time step `n`.\n",
    "- 2.2. computing the probability of reaching a target region `A` of the state space by time step `n`.\n",
    "\n",
    "Both methods should use simulation, and return an estimate and a confidence interval at a specified confidence level `alpha` (0.95% by default)."
   ]
  },
  {
   "cell_type": "code",
   "execution_count": null,
   "metadata": {},
   "outputs": [],
   "source": []
  },
  {
   "cell_type": "code",
   "execution_count": null,
   "metadata": {},
   "outputs": [],
   "source": []
  },
  {
   "cell_type": "markdown",
   "metadata": {},
   "source": [
    "### 3. Branching chain\n",
    "Consider a population, in which each individual at each\n",
    "generation independently gives birth to $k$ individuals with\n",
    "probability $p_k$. These will be the members of the next\n",
    "generation. Assume $k\\in\\{-1, 0,1,2\\}$. The population is initial compused of two individuals Adam and Eve."
   ]
  },
  {
   "cell_type": "code",
   "execution_count": null,
   "metadata": {},
   "outputs": [],
   "source": []
  },
  {
   "cell_type": "markdown",
   "metadata": {},
   "source": [
    "Assume now that $p_0 = p_1 = p_2 = (1-p_{-1})/3$. Estimate the average and the confidence interval of the probability of the population to become extinct for increasing values of $p_{-1}$."
   ]
  },
  {
   "cell_type": "code",
   "execution_count": null,
   "metadata": {},
   "outputs": [],
   "source": []
  }
 ],
 "metadata": {
  "kernelspec": {
   "display_name": "Python 3",
   "language": "python",
   "name": "python3"
  },
  "language_info": {
   "codemirror_mode": {
    "name": "ipython",
    "version": 3
   },
   "file_extension": ".py",
   "mimetype": "text/x-python",
   "name": "python",
   "nbconvert_exporter": "python",
   "pygments_lexer": "ipython3",
   "version": "3.8.5"
  }
 },
 "nbformat": 4,
 "nbformat_minor": 2
}
