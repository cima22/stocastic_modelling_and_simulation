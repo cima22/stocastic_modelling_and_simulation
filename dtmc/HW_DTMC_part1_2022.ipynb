{
 "cells": [
  {
   "cell_type": "code",
   "execution_count": 80,
   "metadata": {},
   "outputs": [],
   "source": [
    "import numpy as np\n",
    "import matplotlib.pyplot as plt\n",
    "# add here the libraries you need\n",
    "from scipy.sparse import csr_matrix\n",
    "from scipy.sparse.csgraph import connected_components"
   ]
  },
  {
   "cell_type": "code",
   "execution_count": 81,
   "metadata": {},
   "outputs": [],
   "source": [
    "def is_well_defined(transition_matrix):\n",
    "    \"\"\"Check if the elements sum up to one for every row\"\"\"\n",
    "    threshold = 1e-10\n",
    "    num_rows = len(transition_matrix)\n",
    "    for row in range(num_rows):\n",
    "        acc = sum(transition_matrix[row, :])\n",
    "        if abs(acc - 1) > threshold: # return false is a row does not sum up to 1\n",
    "            return False\n",
    "    return True\n",
    "\n",
    "def is_in_0_1(p):\n",
    "    \"\"\"Check if p is a vector whose elements are in [0,1]\"\"\"\n",
    "    for prob in p:\n",
    "        if 0 > prob or 1 < prob:\n",
    "            return False\n",
    "    return True\n",
    "\n",
    "def is_prob_vector(p):\n",
    "    \"\"\"Check if p is a vector whose elements are in [0,1] and sum up to one\"\"\"\n",
    "    threshold = 1e-10\n",
    "    acc = 0\n",
    "    for prob in p:\n",
    "        acc += prob\n",
    "    return abs(acc - 1) < threshold and is_in_0_1(p)"
   ]
  },
  {
   "cell_type": "markdown",
   "metadata": {},
   "source": [
    "# Discrete Time Markov Chains\n",
    "This is an exercise notebook on DTMCs. \n",
    "\n",
    "Remember to revise of the lecture on DTMC before attempting to solve it! "
   ]
  },
  {
   "cell_type": "markdown",
   "metadata": {},
   "source": [
    "### Models\n",
    "\n",
    "Consider few DTMCs, those seen in the lectures and few more:\n",
    "\n",
    "1. A student goes to a concert and alternates between being \"dancing\" and being \"at the bar\" until, at a certain point, it goes home which is an absorbing state. Model this scenario as a DTMC, draw the diagram and define the respective transition matrix, called `transition_concert`.  \n",
    "\n",
    "Give names to states and use a dictionary to match names with indexes in the matrix.\n",
    "\n",
    "\n",
    "Always check that the defined transition matrix is **well-defined**."
   ]
  },
  {
   "cell_type": "markdown",
   "metadata": {},
   "source": [
    "<img src=\"imgs/party.png\" width=\"300\">"
   ]
  },
  {
   "cell_type": "code",
   "execution_count": 82,
   "metadata": {},
   "outputs": [
    {
     "name": "stdout",
     "output_type": "stream",
     "text": [
      "The stocastic matrix is:\n",
      " [[0.  0.9 0.1]\n",
      " [0.9 0.  0.1]\n",
      " [0.  0.  1. ]]\n",
      "Is the matrix well defined? True\n",
      "Probability to go home after dancing:  0.1\n"
     ]
    }
   ],
   "source": [
    "transition_concert = np.array([[0,0.9,0.1],[0.9,0,0.1],[0,0,1]])\n",
    "\n",
    "states = {\"dancing\" : 0, \"at bar\" : 1, \"at home\" : 2}\n",
    "\n",
    "print(\"The stocastic matrix is:\\n\", transition_concert)\n",
    "\n",
    "print(\"Is the matrix well defined?\", is_well_defined(transition_concert))\n",
    "\n",
    "p02 = transition_concert[states[\"dancing\"],states[\"at home\"]]\n",
    "print(\"Probability to go home after dancing: \", p02)"
   ]
  },
  {
   "cell_type": "markdown",
   "metadata": {},
   "source": [
    "2. Consider a walker moving randomly along the star graph shown below. The graph is composed of six states. State 6 is the terminal point. \n",
    "\n",
    "<img src=\"imgs/star_graph.png\" width=\"300\">\n",
    "\n",
    "Model the movement of the walker as a DTMC. Choose the parameters $a,b,c,d,e,f,e\\in (0,1)$ so that the transition matrix, `transition_star`, is well-defined.\n",
    "Keep in mind that, ingoing and outgoing transitions can happen with different probabilities."
   ]
  },
  {
   "cell_type": "code",
   "execution_count": 83,
   "metadata": {},
   "outputs": [
    {
     "name": "stdout",
     "output_type": "stream",
     "text": [
      "The parameters are:  {'a': 0.1, 'b': 0.2, 'c': 0.3, 'd': 0.4, 'e': 0.5, 'f': 0.6}\n",
      "The corresponding stocastic matrix is:\n",
      " [[0.  0.  0.  0.9 0.1 0. ]\n",
      " [0.  0.  0.3 0.  0.5 0.2]\n",
      " [0.  0.6 0.  0.4 0.  0. ]\n",
      " [0.5 0.  0.5 0.  0.  0. ]\n",
      " [0.4 0.6 0.  0.  0.  0. ]\n",
      " [0.  0.  0.  0.  0.  1. ]]\n"
     ]
    }
   ],
   "source": [
    "def build_walker_matrix(probs):\n",
    "    \"\"\"Expects as input a dictionary with the 6 parameters and returns the transition matrix according to the provided diagram\"\"\"\n",
    "    assert is_in_0_1(probs.values()), \"Probabilities out of bound.\"\n",
    "    transition_star = np.zeros((6,6))\n",
    "    # Building every node. The indexes are index = node - 1\n",
    "    # Node 1 (index 0):\n",
    "    transition_star[0,3] = 1 - probs[\"a\"]\n",
    "    transition_star[0,4] = probs[\"a\"]\n",
    "    ##########################################\n",
    "    # Node 2:\n",
    "    transition_star[1,5] = probs[\"b\"]\n",
    "    transition_star[1,2] = probs[\"c\"]\n",
    "    transition_star[1,4] = 1 - probs[\"b\"] - probs[\"c\"]\n",
    "    ##########################################\n",
    "    #Node 3:\n",
    "    transition_star[2,1] = 1 - probs[\"d\"]\n",
    "    transition_star[2,3] = probs[\"d\"]\n",
    "    ##########################################\n",
    "    # Node 4:\n",
    "    transition_star[3,0] = probs[\"e\"]\n",
    "    transition_star[3,2] = 1 - probs[\"e\"]\n",
    "    ##########################################\n",
    "    # Node 5:\n",
    "    transition_star[4,0] = 1 - probs[\"f\"]\n",
    "    transition_star[4,1] = probs[\"f\"]\n",
    "    ##########################################\n",
    "    # Node 6:\n",
    "    transition_star[5,5] = 1\n",
    "    ##########################################\n",
    "    return transition_star\n",
    "\n",
    "d = {\"a\" : 0.1, \"b\" : 0.2, \"c\" : 0.3, \"d\": 0.4, \"e\" : 0.5, \"f\" : 0.6}\n",
    "transition_star = build_walker_matrix(d)\n",
    "print(\"The parameters are: \", d)\n",
    "print(\"The corresponding stocastic matrix is:\\n\", transition_star)"
   ]
  },
  {
   "cell_type": "markdown",
   "metadata": {},
   "source": [
    "3. A general birth-death chain, `transition_birth_death()`. Define it writing a function that takes `N` as input (the maximum population size) and vectors `p` (the birth probability) and `q` (the death probability) of length N and returns the transition matrix `transition_birth_death`.\n",
    "\n",
    "<img src=\"imgs/birth-death.png\" width=\"600\">"
   ]
  },
  {
   "cell_type": "code",
   "execution_count": 84,
   "metadata": {},
   "outputs": [],
   "source": [
    "def check_vectors(N,p,q):\n",
    "    \"\"\"Function that checks if the vectors for a general birth-death chain of maximum population N are valid\"\"\"\n",
    "    if len(p) != N or len(q) != N: # vectors must be of size N\n",
    "        return False\n",
    "    for i in range(N):\n",
    "        if p[i] + q[i] > 1: # For every state, the sum of the probabilities should not exceed 1\n",
    "            return False\n",
    "    return True\n",
    "\n",
    "def build_transition_birth_death(N, p, q):\n",
    "    \"\"\"Function that builds a transition matrix for a general birth-death chain of maximum population N, \n",
    "    given the vector of probabilities of birth and death\"\"\"\n",
    "    assert check_vectors(N,p,q), \"Wrong vectors.\"\n",
    "    assert N > 0, \"Negative max population\"\n",
    "    \n",
    "    transition_birth_death = np.zeros((N,N))\n",
    "    \n",
    "    transition_birth_death[0,0] = 1 - p[0]\n",
    "    transition_birth_death[0,1] = p[0]\n",
    "    \n",
    "    for i in range(1,N-1):\n",
    "        transition_birth_death[i,i-1] = q[i-1]\n",
    "        transition_birth_death[i,i+1] = p[i]\n",
    "        transition_birth_death[i,i] = 1 - p[i] - q[i-1]\n",
    "        \n",
    "    transition_birth_death[N-1,N-2] = q[N-2]\n",
    "    transition_birth_death[N-1,N-1] = 1 - q[N-2]\n",
    "    \n",
    "    return transition_birth_death"
   ]
  },
  {
   "cell_type": "code",
   "execution_count": 85,
   "metadata": {},
   "outputs": [
    {
     "name": "stdout",
     "output_type": "stream",
     "text": [
      "Is the transition matrix well-defined? True\n",
      "The corresponding transition matrix is:\n"
     ]
    },
    {
     "data": {
      "text/plain": [
       "array([[0.8, 0.2, 0. , 0. , 0. ],\n",
       "       [0.6, 0.1, 0.3, 0. , 0. ],\n",
       "       [0. , 0.5, 0. , 0.5, 0. ],\n",
       "       [0. , 0. , 0.3, 0.1, 0.6],\n",
       "       [0. , 0. , 0. , 0.2, 0.8]])"
      ]
     },
     "execution_count": 85,
     "metadata": {},
     "output_type": "execute_result"
    }
   ],
   "source": [
    "N = 5\n",
    "p = np.array([0.2,0.3,0.5,0.6,0.4])\n",
    "q = np.array([0.6,0.5,0.3,0.2,0.5])\n",
    "\n",
    "transition_birth_death = build_transition_birth_death(N,p,q)\n",
    "print(\"Is the transition matrix well-defined?\", is_well_defined(transition_birth_death))\n",
    "print(\"The corresponding transition matrix is:\")\n",
    "transition_birth_death"
   ]
  },
  {
   "cell_type": "markdown",
   "metadata": {},
   "source": [
    "4. **Queue model**. Queuing chains model the number of customers in the system as a function of time, and in particular, whether the server(s) can adequately handle the flow of customers. \n",
    "Let $X_n$ be the number of custumers in the system at time $n\\in \\mathbb{N}$. \n",
    "Define a DTMC that models a queueing system where the costumer propensity to join the system, i.e. the arrival rate, is inversely proportional to the current length of the queue.\n",
    "\n",
    "\n",
    "Draw the transitions graph, the transition matrix and explain the details of your model in the two following scenarios:\n",
    "\n",
    "4.1. **Single server**: the service is provided by a single server with service rate $\\mu$\n",
    "\n",
    "\n",
    "<img src=\"imgs/xqueue.png\" width=\"300\">\n",
    "\n",
    "\n",
    "4.2. $m$ **servers**: the service is provided by $m$ servers each with a service rate $\\mu$\n",
    "\n",
    "<img src=\"imgs/xqueue_m_servers.png\" width=\"300\">"
   ]
  },
  {
   "cell_type": "markdown",
   "metadata": {},
   "source": [
    "### 4.1: \n",
    "At every time step, at most one person can be served and at most one can arrive.\n",
    "#### Arrival distribution\n",
    "The probability distribution of the arrival of a new person is dependent on the current state of the chain:\n",
    "$$\n",
    "p_{X_n} =\n",
    "\\begin{cases}\n",
    "    Be\\left(\\frac{1}{X_n}\\right), & if \\ X_n \\geq 2 \\\\\n",
    "    1 , & if \\ X_n < 2 \n",
    "\\end{cases}\n",
    "$$\n",
    "#### Serving distribution\n",
    "The probability distribution of a person in queue being served depends on the serving rate of the server. If the serving rate is greater than one, for sure one person will be served at each time step (i.e. the queue will not grow).\n",
    "$$\n",
    "p_{\\mu} =\n",
    "\\begin{cases}\n",
    "    Be\\left(\\mu\\right), & if \\ 0 < \\mu < 1\\\\\n",
    "    1 , & if \\ \\mu \\geq 1 \n",
    "\\end{cases}\n",
    "$$\n",
    "#### Stocastic matrix\n",
    "Suppose $0 < \\mu < 1$. We have that: <br>\n",
    "<ul>\n",
    "<li>With probability $ \\mu * (1 - \\frac{1}{X_n})$ one person is served and no one arrives, i.e. this is $p_{i,i-1}$ <br>\n",
    "<li>With probability $ (1 - \\mu) * \\frac{1}{X_n}$ no one is served and one person arrives, i.e. this is $p_{i,i+1}$ <br>\n",
    "<li>With probability $ p_{i,i} = 1 - p_{i,i+1} - p_{i,i-1}$ the queue size remains the same, i.e. one person arrive and one is served or no one is served and no one arrives.\n",
    "</ul>"
   ]
  },
  {
   "cell_type": "markdown",
   "metadata": {},
   "source": [
    "#### Example: max length = 4\n",
    "<img src=\"imgs/single_server.png\" width=\"500\">"
   ]
  },
  {
   "cell_type": "code",
   "execution_count": 97,
   "metadata": {},
   "outputs": [
    {
     "name": "stdout",
     "output_type": "stream",
     "text": [
      "Example stocastic matrix for a single server queue with max length = 4, mu = 0.5:\n",
      "Is it well-defined? True\n"
     ]
    },
    {
     "data": {
      "text/plain": [
       "array([[0.        , 1.        , 0.        , 0.        , 0.        ],\n",
       "       [0.        , 0.5       , 0.5       , 0.        , 0.        ],\n",
       "       [0.        , 0.25      , 0.5       , 0.25      , 0.        ],\n",
       "       [0.        , 0.        , 0.33333333, 0.5       , 0.16666667],\n",
       "       [0.        , 0.        , 0.        , 0.375     , 0.625     ]])"
      ]
     },
     "execution_count": 97,
     "metadata": {},
     "output_type": "execute_result"
    }
   ],
   "source": [
    "# Example of with mu = 0.5 and max length of queue = 4\n",
    "mu = 0.5\n",
    "max_length = 4\n",
    "queue_single_server = np.zeros((max_length + 1,max_length + 1))\n",
    "queue_single_server[0,1] = 1\n",
    "for state in range(1,max_length):\n",
    "    queue_single_server[state,state - 1] = mu * (1. - 1./state)\n",
    "    queue_single_server[state,state + 1] = (1 - mu) * (1./state)\n",
    "    queue_single_server[state,state] = 1 - queue_single_server[state,state - 1] - queue_single_server[state,state + 1]\n",
    "queue_single_server[max_length,max_length - 1] = mu * (1. - (1./max_length))\n",
    "queue_single_server[max_length,max_length] = 1 - queue_single_server[max_length,max_length - 1]\n",
    "\n",
    "print(\"Example stocastic matrix for a single server queue with max length = 4, mu = 0.5:\")\n",
    "print(\"Is it well-defined?\", is_well_defined(queue_single_server))\n",
    "queue_single_server"
   ]
  },
  {
   "cell_type": "markdown",
   "metadata": {},
   "source": [
    "### 4.2\n",
    "At every time step at most one person can enter the queue, but at most $m$ people can be served, each with probability $\\mu$. We have that:<br>\n",
    "<ul>\n",
    "<li>The probability that no one is served and one person arrives is $p_{i,i+1} = (1 - \\mu)^m * \\frac{1}{X_n}$\n",
    "<li>The probability to reduce the queue by $k < m$ is the probability of $k$ people being served and no one arrives plus the probability that $k+1$ people being served and one person arrives, i.e. $p_{i,i-k} = \\mu^k * (1 - \\mu)^{m - k} * \\left(1-\\frac{1}{X_n}\\right) + \\mu^{k+1} * (1 - \\mu)^{m-k-1} * \\frac{1}{X_n}$\n",
    "<li>The probability to reduce the queue by $m$ is the probability that no one arrives and $m$ people are served, i.e. $p_{i,i-m} = \\mu^m * \\left(1 - \\frac{1}{X_n}\\right)$\n",
    "<li>The probability that the size of the queue does not change is $p_{i,i} = 1 - p_{i,i+1} - \\sum_{k=1}^m p_{i,i-k}$\n",
    "</ul>"
   ]
  },
  {
   "cell_type": "markdown",
   "metadata": {},
   "source": [
    "#### Example: max length = 6, m = 2\n",
    "<img src=\"imgs/multiple_server.png\" width=\"600\">"
   ]
  },
  {
   "cell_type": "code",
   "execution_count": 87,
   "metadata": {},
   "outputs": [
    {
     "name": "stdout",
     "output_type": "stream",
     "text": [
      "Is the stocastic matrix well defined?  True\n",
      "Example stocastic matrix for a multiple server queue with max length = 8, mu = 0.5 and m = 3:\n"
     ]
    },
    {
     "data": {
      "text/plain": [
       "array([[0.        , 1.        , 0.        , 0.        , 0.        ,\n",
       "        0.        , 0.        , 0.        , 0.        ],\n",
       "       [0.125     , 0.75      , 0.125     , 0.        , 0.        ,\n",
       "        0.        , 0.        , 0.        , 0.        ],\n",
       "       [0.125     , 0.125     , 0.6875    , 0.0625    , 0.        ,\n",
       "        0.        , 0.        , 0.        , 0.        ],\n",
       "       [0.08333333, 0.125     , 0.125     , 0.625     , 0.04166667,\n",
       "        0.        , 0.        , 0.        , 0.        ],\n",
       "       [0.        , 0.09375   , 0.125     , 0.125     , 0.625     ,\n",
       "        0.03125   , 0.        , 0.        , 0.        ],\n",
       "       [0.        , 0.        , 0.1       , 0.125     , 0.125     ,\n",
       "        0.625     , 0.025     , 0.        , 0.        ],\n",
       "       [0.        , 0.        , 0.        , 0.10416667, 0.125     ,\n",
       "        0.125     , 0.625     , 0.02083333, 0.        ],\n",
       "       [0.        , 0.        , 0.        , 0.        , 0.10714286,\n",
       "        0.125     , 0.125     , 0.625     , 0.01785714],\n",
       "       [0.        , 0.        , 0.        , 0.        , 0.        ,\n",
       "        0.109375  , 0.125     , 0.125     , 0.640625  ]])"
      ]
     },
     "execution_count": 87,
     "metadata": {},
     "output_type": "execute_result"
    }
   ],
   "source": [
    "# Example of with mu = 0.5, max length of queue = 16, m = 4\n",
    "mu = 0.5\n",
    "max_length = 8\n",
    "m = 3\n",
    "queue_multiple_server = np.zeros((max_length + 1,max_length + 1))\n",
    "queue_multiple_server[0,1] = 1\n",
    "for state in range(1,max_length+1):\n",
    "    if state != max_length:\n",
    "        queue_multiple_server[state,state + 1] = (1. - mu)**m * (1./state)\n",
    "    for k in range(1,m):\n",
    "        if state - k < 0:\n",
    "            break;\n",
    "        queue_multiple_server[state,state - k] = mu**k * (1. - mu)**(m-k) * (1. - (1./state)) + \\\n",
    "                                                 mu**(k+1) * (1 - mu)**(m-k-1)*(1./state)\n",
    "    if state - m >= 0:\n",
    "        queue_multiple_server[state,state - m] = mu**m * (1. - (1./state))\n",
    "    acc = 0\n",
    "    queue_multiple_server[state,state] = 1 - sum(queue_multiple_server[state,:])\n",
    "    \n",
    "print(\"Is the stocastic matrix well defined? \", is_well_defined(queue_multiple_server))\n",
    "print(\"Example stocastic matrix for a multiple server queue with max length = 8, mu = 0.5 and m = 3:\")\n",
    "queue_multiple_server"
   ]
  },
  {
   "cell_type": "markdown",
   "metadata": {},
   "source": [
    "### Transient probability\n",
    "Write a function that takes a DTMC as input (both the transition matrix `transition_model` and the initial probability `prob_init_model`) and the number of steps `n`, and returns the probability `prob_model` of being in each state after `n` steps. Plot the output as an histogram. \n",
    "*Extra*: compute the transient probabilities from time 0 to time `n` and visualize this output as a 2d colormap, with one axis representing states, and the other time. \n"
   ]
  },
  {
   "cell_type": "code",
   "execution_count": 98,
   "metadata": {},
   "outputs": [
    {
     "name": "stdout",
     "output_type": "stream",
     "text": [
      "After 5 steps: [0.29796278 0.28680356 0.41523366]\n"
     ]
    },
    {
     "data": {
      "image/png": "[encoded data removed]",
      "text/plain": [
       "<Figure size 432x288 with 1 Axes>"
      ]
     },
     "metadata": {
      "needs_background": "light"
     },
     "output_type": "display_data"
    },
    {
     "name": "stdout",
     "output_type": "stream",
     "text": [
      "Probabilities from 0 to 10 steps:\n"
     ]
    },
    {
     "data": {
      "image/png": "[encoded data removed]",
      "text/plain": [
       "<Figure size 432x288 with 2 Axes>"
      ]
     },
     "metadata": {
      "needs_background": "light"
     },
     "output_type": "display_data"
    },
    {
     "data": {
      "text/plain": [
       "array([[0.5       , 0.5       , 0.        ],\n",
       "       [0.41      , 0.405     , 0.185     ],\n",
       "       [0.37375   , 0.369     , 0.25725   ],\n",
       "       [0.3449625 , 0.336375  , 0.3186625 ],\n",
       "       [0.31867063, 0.31046625, 0.37086312],\n",
       "       [0.29796278, 0.28680356, 0.41523366],\n",
       "       [0.27888489, 0.2681665 , 0.45294861],\n",
       "       [0.26399728, 0.2509964 , 0.48500632],\n",
       "       [0.25014708, 0.23759755, 0.51225537],\n",
       "       [0.23945057, 0.22513237, 0.53541706],\n",
       "       [0.22938998, 0.21550551, 0.5551045 ]])"
      ]
     },
     "execution_count": 98,
     "metadata": {},
     "output_type": "execute_result"
    }
   ],
   "source": [
    "def prob_n_steps(transition_model, prob_init_model, n):\n",
    "    \"\"\"Function that computes the vector of probability for a DTMC after n steps.\"\"\"\n",
    "    assert n >= 0, \"Negative number of steps provided\"\n",
    "    if(n == 0):\n",
    "        return prob_init_model\n",
    "    trans_n = transition_model\n",
    "    for i in range(n):\n",
    "        trans_n = np.matmul(trans_n,transition_model)\n",
    "    n_steps = np.matmul(prob_init_model, trans_n)   \n",
    "    return n_steps\n",
    "\n",
    "# Extra:\n",
    "def from_0_to_n(transition_model, prob_init_model, n):\n",
    "    num_states = len(transition_model)\n",
    "    matrix = np.zeros((n+1, num_states))\n",
    "    for i in range(0,n+1):\n",
    "        matrix[i,:] = prob_n_steps(transition_model,prob_init_model,i)\n",
    "\n",
    "    plt.imshow(matrix,cmap=\"inferno\")\n",
    "    plt.colorbar()\n",
    "    plt.show()\n",
    "    \n",
    "    return matrix\n",
    "    \n",
    "prob_init_model = np.array([0.5,0.5,0.])\n",
    "n = 5\n",
    "n_steps = prob_n_steps(transition_concert, prob_init_model, n)\n",
    "\n",
    "print(\"After 5 steps:\",n_steps)\n",
    "fig = plt.figure()\n",
    "ax = fig.add_axes([0,0,1,1])\n",
    "states = range(0,transition_concert.shape[0])\n",
    "ax.bar(states,n_steps)\n",
    "plt.show()\n",
    "\n",
    "print(\"Probabilities from 0 to 10 steps:\")\n",
    "from_0_to_n(transition_concert, prob_init_model, 10)\n"
   ]
  },
  {
   "cell_type": "markdown",
   "metadata": {},
   "source": [
    "### Reachability (absorption probability) and hitting times.\n",
    "Write a function that takes as input:\n",
    "- a DTMC (the transition matrix `transition_model` is enough),\n",
    "- a subset of states `target_region` (either specified by their name or by their indices).\n",
    "The function should compute a vector `prob_absorption_model`, containing the **absorption probability** for each state. Use the iterative method discussed in the lecture. \n",
    "\n",
    "Implement also a method with the same input, returning the **expected hitting times** `exp_hitting_time_model`."
   ]
  },
  {
   "cell_type": "code",
   "execution_count": 89,
   "metadata": {},
   "outputs": [
    {
     "name": "stdout",
     "output_type": "stream",
     "text": [
      "In respect with the transition matrix describing a student to a concert,\n",
      "Absortion probability of being at home:  [1. 1. 1.]\n",
      "Expected hitting time of being at home:  [10. 10.  0.]\n"
     ]
    }
   ],
   "source": [
    "def absortion_prob(transition_model, target_region):\n",
    "    \"\"\"Function that computes the absortion probability vector of a subset of states.\"\"\"\n",
    "    threshold = 1e-15\n",
    "    n = len(transition_model)\n",
    "    abs_matrix = np.copy(transition_model)\n",
    "\n",
    "    for state in target_region:\n",
    "        abs_matrix[state,:] = np.zeros(n)\n",
    "        abs_matrix[state,state] = 1.\n",
    "    \n",
    "    h_prec = np.zeros(n)\n",
    "    h_prec[target_region] = 1.\n",
    "    h_cur  = np.matmul(abs_matrix,h_prec) \n",
    "    \n",
    "    while np.linalg.norm(h_cur-h_prec) > threshold:\n",
    "        h_prec = h_cur\n",
    "        h_cur = np.matmul(abs_matrix,h_prec)\n",
    "        \n",
    "    return h_cur\n",
    "\n",
    "def exp_hitting_time_model(transition_model, target_region):\n",
    "    \"\"\"Function that computes expected hitting time by solving a linear system\"\"\"\n",
    "    hit_matrix = -1 * np.copy(transition_model)\n",
    "    for state in target_region:\n",
    "        hit_matrix[state,:] = np.zeros(len(hit_matrix))\n",
    "    np.fill_diagonal(hit_matrix, 1)\n",
    "    b = np.ones(hit_matrix.shape[0])\n",
    "    b[target] = 0\n",
    "    exp_times = np.linalg.solve(hit_matrix,b)\n",
    "    return exp_times\n",
    "\n",
    "states = {\"dancing\" : 0, \"at bar\" : 1, \"at home\" : 2}\n",
    "target = np.array([states[\"at home\"]])\n",
    "\n",
    "absortion_concert = absortion_prob(transition_concert,target)\n",
    "expected_hitting_times = exp_hitting_time_model(transition_concert,target)\n",
    "\n",
    "print(\"In respect with the transition matrix describing a student to a concert,\")\n",
    "print(\"Absortion probability of being at home: \", absortion_concert)\n",
    "print(\"Expected hitting time of being at home: \", expected_hitting_times)"
   ]
  },
  {
   "cell_type": "markdown",
   "metadata": {},
   "source": [
    "### Steady state probability\n",
    "\n",
    "Write a function taking as input a DTMC and computes its steady state probability, assuming the chain is irreducible, aperiodic, and finite. \n",
    "*Extra*: explore Python libraries and find one implementing graph algorithms. Use a method to compute strongly connected components to check if a chain is irreducible. \n",
    "\n",
    "If a chain is not irreducible, feel free to make it reducible adding transitions where needed."
   ]
  },
  {
   "cell_type": "code",
   "execution_count": 90,
   "metadata": {},
   "outputs": [],
   "source": [
    "def make_irreducible(transition_model):\n",
    "    \"\"\"Takes a stocastic matrix and makes it irreducible\"\"\"\n",
    "    matrix = transition_model\n",
    "    n_components, labels = connected_components(csgraph=matrix, directed=True, return_labels=True, connection='strong')\n",
    "    # labels is an array which labels every state according to its strongly connected components \n",
    "    # (e.g. every state that belongs to a strongly connected component is labeled with the same number)\n",
    "    while n_components > 1:\n",
    "        first = labels[0]\n",
    "        for i in range(len(labels)):\n",
    "            if labels[i] != first: # search the first state that is in a different component\n",
    "                index_1 = 0\n",
    "                index_2 = i\n",
    "                for k in range(2):\n",
    "                    if matrix[index_1,index_2] == 0: # if there is no connection between state 0 and state i\n",
    "                        for j in range(len(matrix)):\n",
    "                            if matrix[index_1,j] > 0.1: # search the first connection that is > 0.1\n",
    "                                matrix[index_1,j] -= 0.05 # reduce it by 0.05. This is to preserve the well definition of the matrix\n",
    "                                break\n",
    "                        matrix[index_1,index_2] = 0.05 # add a connection\n",
    "                    index_1 = i\n",
    "                    index_2 = 0 # switch the indexes, so to create a connection between i and 0, if it does not exist\n",
    "                break\n",
    "        n_components, labels = connected_components(csgraph=matrix, directed=True, return_labels=True, connection='strong')\n",
    "    return matrix"
   ]
  },
  {
   "cell_type": "code",
   "execution_count": 91,
   "metadata": {},
   "outputs": [
    {
     "name": "stdout",
     "output_type": "stream",
     "text": [
      "Is the computed vector a probability vector? True\n",
      "Invariant measure for the walker matrix (exercise 2): [0.1176762  0.09383129 0.09770222 0.13910566 0.05868327 0.49300136]\n"
     ]
    }
   ],
   "source": [
    "def steady_state_probability(transition_model):\n",
    "    \"\"\"Function that computes the invariant measure for an irreducible DTMC\"\"\"\n",
    "    n = len(transition_model)\n",
    "    transition_model = make_irreducible(transition_model)\n",
    "    sys_matrix = np.transpose(np.copy(transition_model)) - np.eye(n)\n",
    "    sys_matrix = np.insert(sys_matrix, n, [np.ones(n)], axis = 0)\n",
    "    b = np.zeros(n + 1)\n",
    "    b[n] = 1\n",
    "    probs = np.linalg.solve(np.matmul(sys_matrix.T,sys_matrix),np.matmul(sys_matrix.T,b))\n",
    "    return probs\n",
    "\n",
    "probs = steady_state_probability(transition_star)\n",
    "print(\"Is the computed vector a probability vector?\", is_prob_vector(probs))\n",
    "print(\"Invariant measure for the walker matrix (exercise 2):\", probs)"
   ]
  },
  {
   "cell_type": "markdown",
   "metadata": {},
   "source": [
    "#### Model class\n",
    "\n",
    "Implement a class having all the methods to initialize a DTMC, to compute transient behaviour, steady state behaviour, and reachability. Consider also defining a map linking state numbers to reference meaningful names."
   ]
  },
  {
   "cell_type": "code",
   "execution_count": 92,
   "metadata": {},
   "outputs": [],
   "source": [
    "class DTMC:\n",
    "    \"\"\"A class that implements the concept of DTMCs.\"\"\"\n",
    "    def __init__(self, stoc_matrix, p0, dic = None):\n",
    "        \"\"\"Constructor of the class; takes as arguments the stocastic matrix, the initial probabilty vector and an\n",
    "        optional dictionary to map state numbers to meaningful names. If no dictionary is given, a default \n",
    "        mapping (e.g. \"State 0\" : 0) is constructed.\"\"\"\n",
    "        self.stoc_matrix = stoc_matrix\n",
    "        self.p0 = p0\n",
    "        \n",
    "        if(dic is None):\n",
    "            self.dic = {}\n",
    "            for i in range(len(p0)):\n",
    "                name = \"State \" + str(i)\n",
    "                self.dic[name] = i\n",
    "        else:\n",
    "            self.dic = dic\n",
    "    \n",
    "    def transient(self, n):\n",
    "        \"\"\"Computes the probability of being in each state after n steps\"\"\"\n",
    "        return prob_n_steps(self.stoc_matrix, self.p0, n)\n",
    "    \n",
    "    def steady_state(self):\n",
    "        \"\"\"Computes the invariant measure of the matrix\"\"\"\n",
    "        return steady_state_probability(self.stoc_matrix)\n",
    "    \n",
    "    def reach(self, states_subset):\n",
    "        \"\"\"Computes the absortion probabilities of the given set of states\"\"\"\n",
    "        return absortion_prob(self.stoc_matrix, states_subset)\n",
    "    \n",
    "    def hitting_time(self, states_subset):\n",
    "        \"\"\"Computes the expected hitting time for the given set of states\"\"\"\n",
    "        return exp_hitting_time_model(self.stoc_matrix, states_subset)"
   ]
  },
  {
   "cell_type": "code",
   "execution_count": 93,
   "metadata": {},
   "outputs": [
    {
     "name": "stdout",
     "output_type": "stream",
     "text": [
      "Stocastic matrix: \n",
      " [[0.8 0.2 0.  0.  0. ]\n",
      " [0.6 0.1 0.3 0.  0. ]\n",
      " [0.  0.5 0.  0.5 0. ]\n",
      " [0.  0.  0.3 0.1 0.6]\n",
      " [0.  0.  0.  0.2 0.8]] \n",
      "\n",
      "Transient probability after 10 steps:  [0.44088075 0.13837108 0.06959353 0.09460903 0.2565456 ]\n",
      "Invariant measure:  [0.34883721 0.11627907 0.06976744 0.11627907 0.34883721]\n",
      "Absortion probability of reaching at 4 individuals:  [1. 1. 1. 1. 1.]\n",
      "\n",
      "-----------------------------------------------------------------------------\n",
      "\n",
      "Stocastic matrix: \n",
      " [[0.  0.9 0.1]\n",
      " [0.9 0.  0.1]\n",
      " [0.  0.  1. ]] \n",
      "\n",
      "Transient probability after 10 steps:  [0.1569053 0.1569053 0.6861894]\n",
      "Invariant measure:  [0.1754386  0.15789474 0.66666667]\n",
      "Absortion probability of going home:  [1. 1. 1.]\n"
     ]
    }
   ],
   "source": [
    "initial_prob_vector = np.array([0.2, 0.3, 0.5, 0, 0])\n",
    "dic = {\"No one\" : 0, \"One\" : 1, \"Two\" : 2, \"Three\" : 3, \"Four\" : 4}\n",
    "\n",
    "dtmc = DTMC(transition_birth_death,initial_prob_vector, dic)\n",
    "\n",
    "print(\"Stocastic matrix: \\n\", dtmc.stoc_matrix, \"\\n\")\n",
    "print(\"Transient probability after 10 steps: \", dtmc.transient(10))\n",
    "print(\"Invariant measure: \", dtmc.steady_state())\n",
    "print(\"Absortion probability of reaching at 4 individuals: \", dtmc.reach([dtmc.dic[\"Four\"]]))\n",
    "\n",
    "print(\"\\n-----------------------------------------------------------------------------\\n\")\n",
    "\n",
    "initial_prob_vector = np.array([0.5, 0.5, 0])\n",
    "dic = {\"Dancing\" : 0, \"At bar\" : 1, \"At home\" : 2}\n",
    "\n",
    "dtmc = DTMC(transition_concert, initial_prob_vector, dic)\n",
    "\n",
    "print(\"Stocastic matrix: \\n\", dtmc.stoc_matrix, \"\\n\")\n",
    "print(\"Transient probability after 10 steps: \", dtmc.transient(10))\n",
    "print(\"Invariant measure: \", dtmc.steady_state())\n",
    "print(\"Absortion probability of going home: \", dtmc.reach([dtmc.dic[\"At home\"]]))"
   ]
  },
  {
   "cell_type": "markdown",
   "metadata": {},
   "source": [
    "### Summary exercise\n",
    "#### Small Monopoly: \n",
    "\n",
    "The game Small Monopoly is played on a\n",
    "game board that has 16 spaces arranged around the outside of a square. The squares\n",
    "have names like Reading Railroad and Park Place but we will number the squares\n",
    "0 (Go), 1 (Baltic Avenue), ..., 15 (Boardwalk). You roll two dice\n",
    "and move forward a number of spaces equal to the sum. The game ends when you reach or pass Boardwalk.\n",
    "\n",
    "- Square 12 is “Go to Jail,” which sends you to square 4. If you roll a double, you get out.\n",
    "- There are two Chance squares at 2 and 10 (diamonds on the graph) where you\n",
    "draw a card, which can send you to another square. The card is picked (with replacement) from a deck containing all the 16 squares.\n",
    "\n",
    "- Described this game as a directed graph, i.e. define its transition matrix.\n",
    "- What is the probability of ending the game?\n",
    "- How long does a game take on average?"
   ]
  },
  {
   "cell_type": "markdown",
   "metadata": {},
   "source": [
    "<img src=\"imgs/monopoly.png\" width=\"300\">"
   ]
  },
  {
   "cell_type": "code",
   "execution_count": 94,
   "metadata": {},
   "outputs": [],
   "source": [
    "# There are 16 states. It is assumed that if a player is in prison and rolls a double, he will move forward \n",
    "# a number of spaces equal to the double.\n",
    "\n",
    "monopoly_matrix = np.zeros([16,16])\n",
    "\n",
    "# Probabilities from state 0:\n",
    "monopoly_matrix[0,:] = [0,0,1/36,2/36,3/36,4/36,5/36,6/36,5/36,4/36,3/36,2/36,1/36,0,0,0]\n",
    "\n",
    "# Probabilities from state 1:\n",
    "monopoly_matrix[1,:] = [0,0,0,1/36,2/36,3/36,4/36,5/36,6/36,5/36,4/36,3/36,2/36,1/36,0,0]\n",
    "\n",
    "# Probabilities from state 2: equal probability to pick any square\n",
    "monopoly_matrix[2,:] = [1/16,1/16,1/16,1/16,1/16,1/16,1/16,1/16,1/16,1/16,1/16,1/16,1/16,1/16,1/16,1/16]\n",
    "\n",
    "# Probabilities from state 3:\n",
    "monopoly_matrix[3,:] = [0,0,0,0,0,1/36,2/36,3/36,4/36,5/36,6/36,5/36,4/36,3/36,2/36,1/36]\n",
    "\n",
    "# Probabilities from state 4: if a player rolls a double, he can exit, otherwise he stays in prison\n",
    "monopoly_matrix[4,:] = [0,0,0,0,30/36,0,1/36,0,1/36,0,1/36,0,1/36,0,1/36,1/36]\n",
    "\n",
    "# Probabilities from state 5:\n",
    "monopoly_matrix[5,:] = [0,0,0,0,0,0,0,1/36,2/36,3/36,4/36,5/36,6/36,5/36,4/36,6/36]\n",
    "\n",
    "# Probabilities from state 6:\n",
    "monopoly_matrix[6,:] = [0,0,0,0,0,0,0,0,1/36,2/36,3/36,4/36,5/36,6/36,5/36,10/36]\n",
    "\n",
    "# Probabilities from state 7:\n",
    "monopoly_matrix[7,:] = [0,0,0,0,0,0,0,0,0,1/36,2/36,3/36,4/36,5/36,6/36,15/36]\n",
    "\n",
    "# Probabilities from state 8:\n",
    "monopoly_matrix[8,:] = [0,0,0,0,0,0,0,0,0,0,1/36,2/36,3/36,4/36,5/36,21/36]\n",
    "\n",
    "# Probabilities from state 9:\n",
    "monopoly_matrix[9,:] = [0,0,0,0,0,0,0,0,0,0,0,1/36,2/36,3/36,4/36,26/36]\n",
    "\n",
    "# Probabilities from state 10: equal probability to pick any square\n",
    "monopoly_matrix[10,:] = [1/16,1/16,1/16,1/16,1/16,1/16,1/16,1/16,1/16,1/16,1/16,1/16,1/16,1/16,1/16,1/16]\n",
    "\n",
    "# Probabilities from state 11:\n",
    "monopoly_matrix[11,:] = [0,0,0,0,0,0,0,0,0,0,0,0,0,1/36,2/36,33/36]\n",
    "\n",
    "# Probabilities from state 12: go to jail\n",
    "monopoly_matrix[12,:] = [0,0,0,0,1,0,0,0,0,0,0,0,0,0,0,0]\n",
    "\n",
    "# Probabilities from state 13:\n",
    "monopoly_matrix[13,:] = [0,0,0,0,0,0,0,0,0,0,0,0,0,0,0,1]\n",
    "\n",
    "# Probabilities from state 14:\n",
    "monopoly_matrix[14,:] = [0,0,0,0,0,0,0,0,0,0,0,0,0,0,0,1]\n",
    "\n",
    "# Probabilities from state 15:\n",
    "monopoly_matrix[15,:] = [0,0,0,0,0,0,0,0,0,0,0,0,0,0,0,1]\n",
    "\n",
    "initial_probability_vector = np.array([1,0,0,0,0,0,0,0,0,0,0,0,0,0,0,0])"
   ]
  },
  {
   "cell_type": "code",
   "execution_count": 95,
   "metadata": {},
   "outputs": [
    {
     "name": "stdout",
     "output_type": "stream",
     "text": [
      "The probability of ending the game is:  0.9999999999999987\n",
      "The game will take on average  3.6480499194399094  steps.\n"
     ]
    }
   ],
   "source": [
    "# We will use the DTMC class defined above\n",
    "small_monopoly = DTMC(monopoly_matrix,initial_probability_vector)\n",
    "\n",
    "# What is the probability of ending the game?\n",
    "# It is the absortion probability of being in state 15, starting from state 0.\n",
    "ending_game = np.array([15]) \n",
    "absortion_probability_15 = small_monopoly.reach(ending_game)\n",
    "prob_ending_game = absortion_probability_15[0]\n",
    "\n",
    "print(\"The probability of ending the game is: \", prob_ending_game)\n",
    "\n",
    "#How long does a game take on average?\n",
    "# It is the expected hitting time of state 15 starting from 0\n",
    "\n",
    "expected_hitting_time_15 = small_monopoly.hitting_time(ending_game)\n",
    "hitting_time_from_start = expected_hitting_time_15[0]\n",
    "\n",
    "print(\"The game will take on average \", hitting_time_from_start, \" steps.\")"
   ]
  }
 ],
 "metadata": {
  "kernelspec": {
   "display_name": "Python 3",
   "language": "python",
   "name": "python3"
  },
  "language_info": {
   "codemirror_mode": {
    "name": "ipython",
    "version": 3
   },
   "file_extension": ".py",
   "mimetype": "text/x-python",
   "name": "python",
   "nbconvert_exporter": "python",
   "pygments_lexer": "ipython3",
   "version": "3.8.8"
  }
 },
 "nbformat": 4,
 "nbformat_minor": 2
}
