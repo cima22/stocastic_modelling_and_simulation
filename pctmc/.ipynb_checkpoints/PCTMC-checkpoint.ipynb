{
 "cells": [
  {
   "cell_type": "markdown",
   "metadata": {},
   "source": [
    "# Population CTMC (PCTMC)\n",
    "\n",
    "Consider a CTMC model of a\n",
    "population in which\n",
    "each of $N$ individuals can be in a state of state space $S$. Firing rate may depends on the\n",
    "density of individuals in certain states.\n",
    "\n",
    "Use the classes developed in the notebook `PCTMC_methods` to define an instance of a PCTMC model.\n",
    "In order to correctly define a PCTMC model, one should define:\n",
    " - state variables,\n",
    " - rate parameters,\n",
    " - initial state $x_0$,\n",
    " - system size,\n",
    " - transitions: update vectors and propensity functions."
   ]
  },
  {
   "cell_type": "code",
   "execution_count": 1,
   "metadata": {},
   "outputs": [],
   "source": [
    "# Terminal: \n",
    "# pip install ipynb\n",
    "# pip install sympy\n",
    "\n",
    "from ipynb.fs.full.PCTMC_methods import *\n",
    "from time import perf_counter as timer"
   ]
  },
  {
   "cell_type": "markdown",
   "metadata": {},
   "source": [
    "pctmc = Model()\n",
    "#### Syntax to add variables:\n",
    "pctmc.add_variable(\"A\", initial_value)\n",
    "#### Syntax to add parameters:\n",
    "pctmc.add_parameter(\"k\", param_value)\n",
    "#### Set the dimension of the population:\n",
    "pctmc.set_system_size(\"N\",population_size)\n",
    "#### Syntax to add transitions: \n",
    "pctmc.add_transition({\"A\": -1, \"B\": +1}, \"rate*A\") --> use symbolic expressions for propensity functions\n",
    "\n",
    "Remember to **finalize** the initialization: pctmc.finalize_initialization()"
   ]
  },
  {
   "cell_type": "markdown",
   "metadata": {},
   "source": [
    "Below you can see an example for the SIR epidemic model."
   ]
  },
  {
   "cell_type": "code",
   "execution_count": 2,
   "metadata": {},
   "outputs": [],
   "source": [
    "def epidemic_model(population_size):\n",
    "    sir = Model()\n",
    "    # variables are generated in the following order\n",
    "    sir.add_variable(\"S\", 0.99*population_size)\n",
    "    sir.add_variable(\"I\", 0.01*population_size)\n",
    "    sir.add_variable(\"R\", 0.0*population_size)\n",
    "    # Adding parameters\n",
    "    sir.add_parameter(\"ki\", 2)\n",
    "    sir.add_parameter(\"kr\", 1)\n",
    "    sir.add_parameter(\"ke\", 1)\n",
    "    sir.add_parameter(\"ks\", 3)\n",
    "    #setting the system size N\n",
    "    sir.set_system_size(\"N\",population_size)\n",
    "    # Adding transitions, using a dictionary to represent the update vector\n",
    "    sir.add_transition({\"S\":-1, \"I\":1},  \"ke*S + ki/N*I*S\")\n",
    "    sir.add_transition({\"I\":-1, \"R\":1},  \"kr*I\")\n",
    "    sir.add_transition({\"R\":-1, \"S\":1},  \"ks*R\")\n",
    "    #finalize initialization\n",
    "    sir.finalize_initialization()\n",
    "    return sir"
   ]
  },
  {
   "cell_type": "markdown",
   "metadata": {},
   "source": [
    "### Predator-Prey model\n",
    "Lotka-Volterra model. Species are two: Predators and Preys.\n",
    "\n",
    "Possible events are: preys reproduce, predators eat preys and reproduce, predators die off."
   ]
  },
  {
   "cell_type": "code",
   "execution_count": 3,
   "metadata": {},
   "outputs": [],
   "source": [
    "def lotka_volterra():\n",
    "    lv = Model()\n",
    "    # Adding variables\n",
    "    lv.add_variable(\"PY\", 50)\n",
    "    lv.add_variable(\"PT\", 100)\n",
    "    # Adding parameters\n",
    "    lv.add_parameter(\"kpy\", 1)\n",
    "    lv.add_parameter(\"ke\", 0.005)\n",
    "    lv.add_parameter(\"kd\", 0.5)\n",
    "    # setting the system size N\n",
    "    \n",
    "    # Adding transitions, using a dictionary to represent the update vector\n",
    "    lv.add_transition({\"PY\":1},  \"kpy*PY\")\n",
    "    lv.add_transition({\"PY\":-1, \"PT\":1},  \"ke*PY*PT\")\n",
    "    lv.add_transition({\"PT\":-1},  \"kd*PT\")\n",
    "    # adding observables\n",
    "    \n",
    "    # remember to finalize\n",
    "    lv.finalize_initialization()\n",
    "    \n",
    "    return lv"
   ]
  },
  {
   "cell_type": "markdown",
   "metadata": {},
   "source": [
    "### Genetic Toggle Switch\n",
    "Model the following system as a PCTMC. There are two genes $G_1$ and $G_2$, that can be in two states: either on or off. When gene $G_i$ is on, it produces a protein $P_i$ that can inhibit the expression of the other gene.\n",
    "\n",
    "Species are $\\{G_1^{on},G_2^{on},G_1^{off},G_2^{off}, P_1, P_2\\}$, such that $G_i^{on}+G_i^{off}$ is constant.\n",
    "The inhibition event is modeled as the binding of protein $P_1$ ($P_2$) with gene $G_2^{off}$ ($G_1^{off}$ ).\n",
    "The proteins also unbind and degradate according to a given rate."
   ]
  },
  {
   "cell_type": "code",
   "execution_count": 4,
   "metadata": {},
   "outputs": [],
   "source": [
    "def genetic_toggle_switch():\n",
    "    gts = Model()\n",
    "    # Adding variables\n",
    "    gts.add_variable(\"G1_ON\", 100)\n",
    "    gts.add_variable(\"G1_OFF\", 0)\n",
    "    gts.add_variable(\"G2_ON\", 100)\n",
    "    gts.add_variable(\"G2_OFF\", 0)\n",
    "    gts.add_variable(\"P1\", 0)\n",
    "    gts.add_variable(\"P2\", 0)\n",
    "    # Adding parameters\n",
    "    gts.add_parameter(\"kg1\", 3)\n",
    "    gts.add_parameter(\"kg2\", 5)\n",
    "    gts.add_parameter(\"kb1\", 3)\n",
    "    gts.add_parameter(\"kb2\", 2)\n",
    "    gts.add_parameter(\"kub1\", .5)\n",
    "    gts.add_parameter(\"kub2\", .1)\n",
    "    # setting the system size N\n",
    "    \n",
    "    # Adding transitions, using a dictionary to represent the update vector\n",
    "    gts.add_transition({\"P1\":1},  \"kg1*G1_ON\")\n",
    "    gts.add_transition({\"P2\":1},  \"kg2*G2_ON\")\n",
    "    gts.add_transition({\"P1\":-1, \"G2_ON\":-1, \"G2_OFF\":1},  \"kb1 * P1 * G2_ON\")\n",
    "    gts.add_transition({\"P2\":-1, \"G1_ON\":-1, \"G1_OFF\":1},  \"kb2 * P2 * G1_ON\")\n",
    "    gts.add_transition({\"G1_OFF\":-1, \"G1_ON\":1},  \"kub2*G1_OFF\")\n",
    "    gts.add_transition({\"G2_OFF\":-1, \"G2_ON\":1},  \"kub1*G2_OFF\")\n",
    "    # adding observables\n",
    "    \n",
    "    # remember to finalize\n",
    "    gts.finalize_initialization()\n",
    "    \n",
    "    return gts  "
   ]
  },
  {
   "cell_type": "markdown",
   "metadata": {},
   "source": [
    "\n",
    "## Stochastic Simulation - SSA algorithm\n",
    "\n",
    "Look into the class Simulator() and complete function `_SSA_single_simulation` with the ingredients needed to perform SSA simulation of stochastic trajectories.\n",
    "\n",
    "Plot the stochastic trajectories.\n"
   ]
  },
  {
   "cell_type": "code",
   "execution_count": 5,
   "metadata": {},
   "outputs": [
    {
     "name": "stdout",
     "output_type": "stream",
     "text": [
      "10 % done\n",
      "20 % done\n",
      "30 % done\n",
      "40 % done\n",
      "50 % done\n",
      "60 % done\n",
      "70 % done\n",
      "80 % done\n",
      "90 % done\n",
      "100 % done\n"
     ]
    },
    {
     "name": "stderr",
     "output_type": "stream",
     "text": [
      "/home/gabri/uni/stoc_sim/stocastic_modelling_and_simulation/pctmc/PCTMC_methods.ipynb:314: RuntimeWarning: invalid value encountered in true_divide\n",
      "  \"        :return: the variables computed along the trajectory\\n\",\n"
     ]
    },
    {
     "data": {
      "image/png": "[encoded data removed]",
      "text/plain": [
       "<Figure size 432x288 with 1 Axes>"
      ]
     },
     "metadata": {
      "needs_background": "light"
     },
     "output_type": "display_data"
    }
   ],
   "source": [
    "import numpy as np\n",
    "\n",
    "lv = lotka_volterra()\n",
    "final_time = 50\n",
    "points = 100\n",
    "runs = 10\n",
    "\n",
    "sim = Simulator(lv)\n",
    "\n",
    "x = sim.SSA_simulation(final_time,runs,points,10)\n",
    "#tr = Trajectory(np.linspace(0,.1,20),x,\"Lotka-Volterra\",[\"PY\",\"PT\"])\n",
    "#tr.plot()\n",
    "x.plot()"
   ]
  },
  {
   "cell_type": "markdown",
   "metadata": {},
   "source": [
    "## Stochastic Approximation\n",
    "\n",
    "Consider the PCTMC models defined above and implement the **Mean Field** (MF) and the **Linear Noise approximation** (LNA) of the stochastic evolution of the system.\n",
    "\n",
    "Add the methods *MF_simulation()* and *LN_simulation* in the Simulator class. The overall structure of the solution is already in place, fill the gaps. Some methods in class Model() have to be completed as well. \n",
    "\n",
    "Symbolic representation is a key ingredient for the solution, so look at the Simpy documentation if needed.\n",
    "\n",
    "Plot the deterministic trajectories of the MF approximation and the confidence interval given by the LNS."
   ]
  },
  {
   "cell_type": "code",
   "execution_count": null,
   "metadata": {},
   "outputs": [],
   "source": []
  },
  {
   "cell_type": "code",
   "execution_count": null,
   "metadata": {},
   "outputs": [],
   "source": []
  },
  {
   "cell_type": "code",
   "execution_count": null,
   "metadata": {},
   "outputs": [],
   "source": []
  }
 ],
 "metadata": {
  "kernelspec": {
   "display_name": "Python 3 (ipykernel)",
   "language": "python",
   "name": "python3"
  },
  "language_info": {
   "codemirror_mode": {
    "name": "ipython",
    "version": 3
   },
   "file_extension": ".py",
   "mimetype": "text/x-python",
   "name": "python",
   "nbconvert_exporter": "python",
   "pygments_lexer": "ipython3",
   "version": "3.10.4"
  }
 },
 "nbformat": 4,
 "nbformat_minor": 4
}
