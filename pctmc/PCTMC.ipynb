{
 "cells": [
  {
   "cell_type": "markdown",
   "metadata": {},
   "source": [
    "# Population CTMC (PCTMC)\n",
    "\n",
    "Consider a CTMC model of a\n",
    "population in which\n",
    "each of $N$ individuals can be in a state of state space $S$. Firing rate may depends on the\n",
    "density of individuals in certain states.\n",
    "\n",
    "Use the classes developed in the notebook `PCTMC_methods` to define an instance of a PCTMC model.\n",
    "In order to correctly define a PCTMC model, one should define:\n",
    " - state variables,\n",
    " - rate parameters,\n",
    " - initial state $x_0$,\n",
    " - system size,\n",
    " - transitions: update vectors and propensity functions."
   ]
  },
  {
   "cell_type": "code",
   "execution_count": 1,
   "metadata": {},
   "outputs": [],
   "source": [
    "# Terminal: \n",
    "# pip install ipynb\n",
    "# pip install sympy\n",
    "\n",
    "from ipynb.fs.full.PCTMC_methods import *\n",
    "from time import perf_counter as timer"
   ]
  },
  {
   "cell_type": "markdown",
   "metadata": {},
   "source": [
    "pctmc = Model()\n",
    "#### Syntax to add variables:\n",
    "pctmc.add_variable(\"A\", initial_value)\n",
    "#### Syntax to add parameters:\n",
    "pctmc.add_parameter(\"k\", param_value)\n",
    "#### Set the dimension of the population:\n",
    "pctmc.set_system_size(\"N\",population_size)\n",
    "#### Syntax to add transitions: \n",
    "pctmc.add_transition({\"A\": -1, \"B\": +1}, \"rate*A\") --> use symbolic expressions for propensity functions\n",
    "\n",
    "Remember to **finalize** the initialization: pctmc.finalize_initialization()"
   ]
  },
  {
   "cell_type": "markdown",
   "metadata": {},
   "source": [
    "Below you can see an example for the SIR epidemic model."
   ]
  },
  {
   "cell_type": "code",
   "execution_count": 2,
   "metadata": {},
   "outputs": [],
   "source": [
    "def epidemic_model(population_size):\n",
    "    sir = Model()\n",
    "    # variables are generated in the following order\n",
    "    sir.add_variable(\"S\", 0.99*population_size)\n",
    "    sir.add_variable(\"I\", 0.01*population_size)\n",
    "    sir.add_variable(\"R\", 0.0*population_size)\n",
    "    # Adding parameters\n",
    "    sir.add_parameter(\"ki\", 2)\n",
    "    sir.add_parameter(\"kr\", 1)\n",
    "    sir.add_parameter(\"ke\", 1)\n",
    "    sir.add_parameter(\"ks\", 3)\n",
    "    #setting the system size N\n",
    "    sir.set_system_size(\"N\",population_size)\n",
    "    # Adding transitions, using a dictionary to represent the update vector\n",
    "    sir.add_transition({\"S\":-1, \"I\":1},  \"ke*S + ki/N*I*S\")\n",
    "    sir.add_transition({\"I\":-1, \"R\":1},  \"kr*I\")\n",
    "    sir.add_transition({\"R\":-1, \"S\":1},  \"ks*R\")\n",
    "    #finalize initialization\n",
    "    sir.finalize_initialization()\n",
    "    return sir"
   ]
  },
  {
   "cell_type": "markdown",
   "metadata": {},
   "source": [
    "### Predator-Prey model\n",
    "Lotka-Volterra model. Species are two: Predators and Preys.\n",
    "\n",
    "Possible events are: preys reproduce, predators eat preys and reproduce, predators die off."
   ]
  },
  {
   "cell_type": "code",
   "execution_count": 3,
   "metadata": {},
   "outputs": [],
   "source": [
    "def lotka_volterra():\n",
    "    lv = Model()\n",
    "    # Adding variables\n",
    "    lv.add_variable(\"PY\", 50)\n",
    "    lv.add_variable(\"PT\", 100)\n",
    "    # Adding parameters\n",
    "    lv.add_parameter(\"kpy\", 1)\n",
    "    lv.add_parameter(\"ke\", 0.005)\n",
    "    lv.add_parameter(\"kd\", 0.5)\n",
    "    # setting the system size N\n",
    "    \n",
    "    # Adding transitions, using a dictionary to represent the update vector\n",
    "    lv.add_transition({\"PY\":1},  \"kpy*PY\")\n",
    "    lv.add_transition({\"PY\":-1, \"PT\":1},  \"ke*PY*PT\")\n",
    "    lv.add_transition({\"PT\":-1},  \"kd*PT\")\n",
    "    # adding observables\n",
    "    \n",
    "    # remember to finalize\n",
    "    lv.finalize_initialization()\n",
    "    \n",
    "    return lv"
   ]
  },
  {
   "cell_type": "markdown",
   "metadata": {},
   "source": [
    "### Genetic Toggle Switch\n",
    "Model the following system as a PCTMC. There are two genes $G_1$ and $G_2$, that can be in two states: either on or off. When gene $G_i$ is on, it produces a protein $P_i$ that can inhibit the expression of the other gene.\n",
    "\n",
    "Species are $\\{G_1^{on},G_2^{on},G_1^{off},G_2^{off}, P_1, P_2\\}$, such that $G_i^{on}+G_i^{off}$ is constant.\n",
    "The inhibition event is modeled as the binding of protein $P_1$ ($P_2$) with gene $G_2^{off}$ ($G_1^{off}$ ).\n",
    "The proteins also unbind and degradate according to a given rate."
   ]
  },
  {
   "cell_type": "code",
   "execution_count": 4,
   "metadata": {},
   "outputs": [],
   "source": [
    "def genetic_toggle_switch():\n",
    "    gts = Model()\n",
    "    # Adding variables\n",
    "    gts.add_variable(\"G1_ON\", 100)\n",
    "    gts.add_variable(\"G1_OFF\", 0)\n",
    "    gts.add_variable(\"G2_ON\", 100)\n",
    "    gts.add_variable(\"G2_OFF\", 0)\n",
    "    gts.add_variable(\"P1\", 0)\n",
    "    gts.add_variable(\"P2\", 0)\n",
    "    # Adding parameters\n",
    "    gts.add_parameter(\"kg1\", 3)\n",
    "    gts.add_parameter(\"kg2\", 5)\n",
    "    gts.add_parameter(\"kb1\", 3)\n",
    "    gts.add_parameter(\"kb2\", 2)\n",
    "    gts.add_parameter(\"kub1\", .5)\n",
    "    gts.add_parameter(\"kub2\", .1)\n",
    "    # setting the system size N\n",
    "    \n",
    "    # Adding transitions, using a dictionary to represent the update vector\n",
    "    gts.add_transition({\"P1\":1},  \"kg1*G1_ON\")\n",
    "    gts.add_transition({\"P2\":1},  \"kg2*G2_ON\")\n",
    "    gts.add_transition({\"P1\":-1, \"G2_ON\":-1, \"G2_OFF\":1},  \"kb1 * P1 * G2_ON\")\n",
    "    gts.add_transition({\"P2\":-1, \"G1_ON\":-1, \"G1_OFF\":1},  \"kb2 * P2 * G1_ON\")\n",
    "    gts.add_transition({\"G1_OFF\":-1, \"G1_ON\":1},  \"kub2*G1_OFF\")\n",
    "    gts.add_transition({\"G2_OFF\":-1, \"G2_ON\":1},  \"kub1*G2_OFF\")\n",
    "    # adding observables\n",
    "    \n",
    "    # remember to finalize\n",
    "    gts.finalize_initialization()\n",
    "    \n",
    "    return gts  "
   ]
  },
  {
   "cell_type": "markdown",
   "metadata": {},
   "source": [
    "\n",
    "## Stochastic Simulation - SSA algorithm\n",
    "\n",
    "Look into the class Simulator() and complete function `_SSA_single_simulation` with the ingredients needed to perform SSA simulation of stochastic trajectories.\n",
    "\n",
    "Plot the stochastic trajectories.\n"
   ]
  },
  {
   "cell_type": "code",
   "execution_count": 5,
   "metadata": {},
   "outputs": [
    {
     "name": "stdout",
     "output_type": "stream",
     "text": [
      "10 % done\n",
      "20 % done\n",
      "30 % done\n"
     ]
    },
    {
     "ename": "KeyboardInterrupt",
     "evalue": "",
     "output_type": "error",
     "traceback": [
      "\u001b[1;31m---------------------------------------------------------------------------\u001b[0m",
      "\u001b[1;31mKeyError\u001b[0m                                  Traceback (most recent call last)",
      "\u001b[1;32m~\\anaconda3\\lib\\site-packages\\sympy\\core\\evalf.py\u001b[0m in \u001b[0;36mevalf\u001b[1;34m(x, prec, options)\u001b[0m\n\u001b[0;32m   1365\u001b[0m         \u001b[0mrf\u001b[0m \u001b[1;33m=\u001b[0m \u001b[0mevalf_table\u001b[0m\u001b[1;33m[\u001b[0m\u001b[0mx\u001b[0m\u001b[1;33m.\u001b[0m\u001b[0mfunc\u001b[0m\u001b[1;33m]\u001b[0m\u001b[1;33m\u001b[0m\u001b[1;33m\u001b[0m\u001b[0m\n\u001b[1;32m-> 1366\u001b[1;33m         \u001b[0mr\u001b[0m \u001b[1;33m=\u001b[0m \u001b[0mrf\u001b[0m\u001b[1;33m(\u001b[0m\u001b[0mx\u001b[0m\u001b[1;33m,\u001b[0m \u001b[0mprec\u001b[0m\u001b[1;33m,\u001b[0m \u001b[0moptions\u001b[0m\u001b[1;33m)\u001b[0m\u001b[1;33m\u001b[0m\u001b[1;33m\u001b[0m\u001b[0m\n\u001b[0m\u001b[0;32m   1367\u001b[0m     \u001b[1;32mexcept\u001b[0m \u001b[0mKeyError\u001b[0m\u001b[1;33m:\u001b[0m\u001b[1;33m\u001b[0m\u001b[1;33m\u001b[0m\u001b[0m\n",
      "\u001b[1;32m~\\anaconda3\\lib\\site-packages\\sympy\\core\\evalf.py\u001b[0m in \u001b[0;36mevalf_symbol\u001b[1;34m(x, prec, options)\u001b[0m\n\u001b[0;32m   1253\u001b[0m \u001b[1;32mdef\u001b[0m \u001b[0mevalf_symbol\u001b[0m\u001b[1;33m(\u001b[0m\u001b[0mx\u001b[0m\u001b[1;33m,\u001b[0m \u001b[0mprec\u001b[0m\u001b[1;33m,\u001b[0m \u001b[0moptions\u001b[0m\u001b[1;33m)\u001b[0m\u001b[1;33m:\u001b[0m\u001b[1;33m\u001b[0m\u001b[1;33m\u001b[0m\u001b[0m\n\u001b[1;32m-> 1254\u001b[1;33m     \u001b[0mval\u001b[0m \u001b[1;33m=\u001b[0m \u001b[0moptions\u001b[0m\u001b[1;33m[\u001b[0m\u001b[1;34m'subs'\u001b[0m\u001b[1;33m]\u001b[0m\u001b[1;33m[\u001b[0m\u001b[0mx\u001b[0m\u001b[1;33m]\u001b[0m\u001b[1;33m\u001b[0m\u001b[1;33m\u001b[0m\u001b[0m\n\u001b[0m\u001b[0;32m   1255\u001b[0m     \u001b[1;32mif\u001b[0m \u001b[0misinstance\u001b[0m\u001b[1;33m(\u001b[0m\u001b[0mval\u001b[0m\u001b[1;33m,\u001b[0m \u001b[0mmpf\u001b[0m\u001b[1;33m)\u001b[0m\u001b[1;33m:\u001b[0m\u001b[1;33m\u001b[0m\u001b[1;33m\u001b[0m\u001b[0m\n",
      "\u001b[1;31mKeyError\u001b[0m: PT",
      "\nDuring handling of the above exception, another exception occurred:\n",
      "\u001b[1;31mKeyboardInterrupt\u001b[0m                         Traceback (most recent call last)",
      "\u001b[1;32m<ipython-input-5-ce29ca177fcb>\u001b[0m in \u001b[0;36m<module>\u001b[1;34m\u001b[0m\n\u001b[0;32m      8\u001b[0m \u001b[0msim\u001b[0m \u001b[1;33m=\u001b[0m \u001b[0mSimulator\u001b[0m\u001b[1;33m(\u001b[0m\u001b[0mlv\u001b[0m\u001b[1;33m)\u001b[0m\u001b[1;33m\u001b[0m\u001b[1;33m\u001b[0m\u001b[0m\n\u001b[0;32m      9\u001b[0m \u001b[1;33m\u001b[0m\u001b[0m\n\u001b[1;32m---> 10\u001b[1;33m \u001b[0mx\u001b[0m \u001b[1;33m=\u001b[0m \u001b[0msim\u001b[0m\u001b[1;33m.\u001b[0m\u001b[0mSSA_simulation\u001b[0m\u001b[1;33m(\u001b[0m\u001b[0mfinal_time\u001b[0m\u001b[1;33m,\u001b[0m\u001b[0mruns\u001b[0m\u001b[1;33m,\u001b[0m\u001b[0mpoints\u001b[0m\u001b[1;33m,\u001b[0m\u001b[1;36m10\u001b[0m\u001b[1;33m)\u001b[0m\u001b[1;33m\u001b[0m\u001b[1;33m\u001b[0m\u001b[0m\n\u001b[0m\u001b[0;32m     11\u001b[0m \u001b[1;31m#tr = Trajectory(np.linspace(0,.1,20),x,\"Lotka-Volterra\",[\"PY\",\"PT\"])\u001b[0m\u001b[1;33m\u001b[0m\u001b[1;33m\u001b[0m\u001b[1;33m\u001b[0m\u001b[0m\n\u001b[0;32m     12\u001b[0m \u001b[1;31m#tr.plot()\u001b[0m\u001b[1;33m\u001b[0m\u001b[1;33m\u001b[0m\u001b[1;33m\u001b[0m\u001b[0m\n",
      "\u001b[1;32m~\\Desktop\\Gabriele\\uni\\magistrale\\stoc_sim\\pctmc\\PCTMC_methods.ipynb\u001b[0m in \u001b[0;36mSSA_simulation\u001b[1;34m(self, final_time, runs, points, update)\u001b[0m\n\u001b[0;32m    360\u001b[0m     \u001b[1;34m\"            # store values in the output array\\n\"\u001b[0m\u001b[1;33m,\u001b[0m\u001b[1;33m\u001b[0m\u001b[1;33m\u001b[0m\u001b[0m\n\u001b[0;32m    361\u001b[0m     \u001b[1;34m\"            while print_index < len(time_stamp) and time_stamp[print_index] <= time:\\n\"\u001b[0m\u001b[1;33m,\u001b[0m\u001b[1;33m\u001b[0m\u001b[1;33m\u001b[0m\u001b[0m\n\u001b[1;32m--> 362\u001b[1;33m     \u001b[1;34m\"                x[print_index, :] = state\\n\"\u001b[0m\u001b[1;33m,\u001b[0m\u001b[1;33m\u001b[0m\u001b[1;33m\u001b[0m\u001b[0m\n\u001b[0m\u001b[0;32m    363\u001b[0m     \u001b[1;34m\"                print_index += 1\\n\"\u001b[0m\u001b[1;33m,\u001b[0m\u001b[1;33m\u001b[0m\u001b[1;33m\u001b[0m\u001b[0m\n\u001b[0;32m    364\u001b[0m     \u001b[1;34m\"\\n\"\u001b[0m\u001b[1;33m,\u001b[0m\u001b[1;33m\u001b[0m\u001b[1;33m\u001b[0m\u001b[0m\n",
      "\u001b[1;32m~\\Desktop\\Gabriele\\uni\\magistrale\\stoc_sim\\pctmc\\PCTMC_methods.ipynb\u001b[0m in \u001b[0;36m_SSA_single_simulation\u001b[1;34m(self, final_time, time_stamp, model_dimension, trans_number)\u001b[0m\n\u001b[0;32m    307\u001b[0m     \u001b[1;34m\"        \\\"\\\"\\\"\\n\"\u001b[0m\u001b[1;33m,\u001b[0m\u001b[1;33m\u001b[0m\u001b[1;33m\u001b[0m\u001b[0m\n\u001b[0;32m    308\u001b[0m     \u001b[1;34m\"        A single SSA simulation run\\n\"\u001b[0m\u001b[1;33m,\u001b[0m\u001b[1;33m\u001b[0m\u001b[1;33m\u001b[0m\u001b[0m\n\u001b[1;32m--> 309\u001b[1;33m     \u001b[1;34m\"\\n\"\u001b[0m\u001b[1;33m,\u001b[0m\u001b[1;33m\u001b[0m\u001b[1;33m\u001b[0m\u001b[0m\n\u001b[0m\u001b[0;32m    310\u001b[0m     \u001b[1;34m\"        :param final_time: final simulation time\\n\"\u001b[0m\u001b[1;33m,\u001b[0m\u001b[1;33m\u001b[0m\u001b[1;33m\u001b[0m\u001b[0m\n\u001b[0;32m    311\u001b[0m     \u001b[1;34m\"        :param time_stamp: time array containing time points to save\\n\"\u001b[0m\u001b[1;33m,\u001b[0m\u001b[1;33m\u001b[0m\u001b[1;33m\u001b[0m\u001b[0m\n",
      "\u001b[1;32m~\\anaconda3\\lib\\site-packages\\sympy\\core\\evalf.py\u001b[0m in \u001b[0;36mevalf\u001b[1;34m(self, n, subs, maxn, chop, strict, quad, verbose)\u001b[0m\n\u001b[0;32m   1512\u001b[0m             \u001b[0moptions\u001b[0m\u001b[1;33m[\u001b[0m\u001b[1;34m'quad'\u001b[0m\u001b[1;33m]\u001b[0m \u001b[1;33m=\u001b[0m \u001b[0mquad\u001b[0m\u001b[1;33m\u001b[0m\u001b[1;33m\u001b[0m\u001b[0m\n\u001b[0;32m   1513\u001b[0m         \u001b[1;32mtry\u001b[0m\u001b[1;33m:\u001b[0m\u001b[1;33m\u001b[0m\u001b[1;33m\u001b[0m\u001b[0m\n\u001b[1;32m-> 1514\u001b[1;33m             \u001b[0mresult\u001b[0m \u001b[1;33m=\u001b[0m \u001b[0mevalf\u001b[0m\u001b[1;33m(\u001b[0m\u001b[0mself\u001b[0m\u001b[1;33m,\u001b[0m \u001b[0mprec\u001b[0m \u001b[1;33m+\u001b[0m \u001b[1;36m4\u001b[0m\u001b[1;33m,\u001b[0m \u001b[0moptions\u001b[0m\u001b[1;33m)\u001b[0m\u001b[1;33m\u001b[0m\u001b[1;33m\u001b[0m\u001b[0m\n\u001b[0m\u001b[0;32m   1515\u001b[0m         \u001b[1;32mexcept\u001b[0m \u001b[0mNotImplementedError\u001b[0m\u001b[1;33m:\u001b[0m\u001b[1;33m\u001b[0m\u001b[1;33m\u001b[0m\u001b[0m\n\u001b[0;32m   1516\u001b[0m             \u001b[1;31m# Fall back to the ordinary evalf\u001b[0m\u001b[1;33m\u001b[0m\u001b[1;33m\u001b[0m\u001b[1;33m\u001b[0m\u001b[0m\n",
      "\u001b[1;32m~\\anaconda3\\lib\\site-packages\\sympy\\core\\evalf.py\u001b[0m in \u001b[0;36mevalf\u001b[1;34m(x, prec, options)\u001b[0m\n\u001b[0;32m   1364\u001b[0m     \u001b[1;32mtry\u001b[0m\u001b[1;33m:\u001b[0m\u001b[1;33m\u001b[0m\u001b[1;33m\u001b[0m\u001b[0m\n\u001b[0;32m   1365\u001b[0m         \u001b[0mrf\u001b[0m \u001b[1;33m=\u001b[0m \u001b[0mevalf_table\u001b[0m\u001b[1;33m[\u001b[0m\u001b[0mx\u001b[0m\u001b[1;33m.\u001b[0m\u001b[0mfunc\u001b[0m\u001b[1;33m]\u001b[0m\u001b[1;33m\u001b[0m\u001b[1;33m\u001b[0m\u001b[0m\n\u001b[1;32m-> 1366\u001b[1;33m         \u001b[0mr\u001b[0m \u001b[1;33m=\u001b[0m \u001b[0mrf\u001b[0m\u001b[1;33m(\u001b[0m\u001b[0mx\u001b[0m\u001b[1;33m,\u001b[0m \u001b[0mprec\u001b[0m\u001b[1;33m,\u001b[0m \u001b[0moptions\u001b[0m\u001b[1;33m)\u001b[0m\u001b[1;33m\u001b[0m\u001b[1;33m\u001b[0m\u001b[0m\n\u001b[0m\u001b[0;32m   1367\u001b[0m     \u001b[1;32mexcept\u001b[0m \u001b[0mKeyError\u001b[0m\u001b[1;33m:\u001b[0m\u001b[1;33m\u001b[0m\u001b[1;33m\u001b[0m\u001b[0m\n\u001b[0;32m   1368\u001b[0m         \u001b[1;31m# Fall back to ordinary evalf if possible\u001b[0m\u001b[1;33m\u001b[0m\u001b[1;33m\u001b[0m\u001b[1;33m\u001b[0m\u001b[0m\n",
      "\u001b[1;32m~\\anaconda3\\lib\\site-packages\\sympy\\core\\evalf.py\u001b[0m in \u001b[0;36mevalf_mul\u001b[1;34m(v, prec, options)\u001b[0m\n\u001b[0;32m    610\u001b[0m         \u001b[1;32melif\u001b[0m \u001b[0mi\u001b[0m \u001b[1;33m==\u001b[0m \u001b[0mlast\u001b[0m \u001b[1;32mand\u001b[0m \u001b[0marg\u001b[0m \u001b[1;32mis\u001b[0m \u001b[0mS\u001b[0m\u001b[1;33m.\u001b[0m\u001b[0mOne\u001b[0m\u001b[1;33m:\u001b[0m\u001b[1;33m\u001b[0m\u001b[1;33m\u001b[0m\u001b[0m\n\u001b[0;32m    611\u001b[0m             \u001b[1;32mcontinue\u001b[0m\u001b[1;33m\u001b[0m\u001b[1;33m\u001b[0m\u001b[0m\n\u001b[1;32m--> 612\u001b[1;33m         \u001b[0mre\u001b[0m\u001b[1;33m,\u001b[0m \u001b[0mim\u001b[0m\u001b[1;33m,\u001b[0m \u001b[0mre_acc\u001b[0m\u001b[1;33m,\u001b[0m \u001b[0mim_acc\u001b[0m \u001b[1;33m=\u001b[0m \u001b[0mevalf\u001b[0m\u001b[1;33m(\u001b[0m\u001b[0marg\u001b[0m\u001b[1;33m,\u001b[0m \u001b[0mworking_prec\u001b[0m\u001b[1;33m,\u001b[0m \u001b[0moptions\u001b[0m\u001b[1;33m)\u001b[0m\u001b[1;33m\u001b[0m\u001b[1;33m\u001b[0m\u001b[0m\n\u001b[0m\u001b[0;32m    613\u001b[0m         \u001b[1;32mif\u001b[0m \u001b[0mre\u001b[0m \u001b[1;32mand\u001b[0m \u001b[0mim\u001b[0m\u001b[1;33m:\u001b[0m\u001b[1;33m\u001b[0m\u001b[1;33m\u001b[0m\u001b[0m\n\u001b[0;32m    614\u001b[0m             \u001b[0mcomplex_factors\u001b[0m\u001b[1;33m.\u001b[0m\u001b[0mappend\u001b[0m\u001b[1;33m(\u001b[0m\u001b[1;33m(\u001b[0m\u001b[0mre\u001b[0m\u001b[1;33m,\u001b[0m \u001b[0mim\u001b[0m\u001b[1;33m,\u001b[0m \u001b[0mre_acc\u001b[0m\u001b[1;33m,\u001b[0m \u001b[0mim_acc\u001b[0m\u001b[1;33m)\u001b[0m\u001b[1;33m)\u001b[0m\u001b[1;33m\u001b[0m\u001b[1;33m\u001b[0m\u001b[0m\n",
      "\u001b[1;32m~\\anaconda3\\lib\\site-packages\\sympy\\core\\evalf.py\u001b[0m in \u001b[0;36mevalf\u001b[1;34m(x, prec, options)\u001b[0m\n\u001b[0;32m   1368\u001b[0m         \u001b[1;31m# Fall back to ordinary evalf if possible\u001b[0m\u001b[1;33m\u001b[0m\u001b[1;33m\u001b[0m\u001b[1;33m\u001b[0m\u001b[0m\n\u001b[0;32m   1369\u001b[0m         \u001b[1;32mif\u001b[0m \u001b[1;34m'subs'\u001b[0m \u001b[1;32min\u001b[0m \u001b[0moptions\u001b[0m\u001b[1;33m:\u001b[0m\u001b[1;33m\u001b[0m\u001b[1;33m\u001b[0m\u001b[0m\n\u001b[1;32m-> 1370\u001b[1;33m             \u001b[0mx\u001b[0m \u001b[1;33m=\u001b[0m \u001b[0mx\u001b[0m\u001b[1;33m.\u001b[0m\u001b[0msubs\u001b[0m\u001b[1;33m(\u001b[0m\u001b[0mevalf_subs\u001b[0m\u001b[1;33m(\u001b[0m\u001b[0mprec\u001b[0m\u001b[1;33m,\u001b[0m \u001b[0moptions\u001b[0m\u001b[1;33m[\u001b[0m\u001b[1;34m'subs'\u001b[0m\u001b[1;33m]\u001b[0m\u001b[1;33m)\u001b[0m\u001b[1;33m)\u001b[0m\u001b[1;33m\u001b[0m\u001b[1;33m\u001b[0m\u001b[0m\n\u001b[0m\u001b[0;32m   1371\u001b[0m         \u001b[0mxe\u001b[0m \u001b[1;33m=\u001b[0m \u001b[0mx\u001b[0m\u001b[1;33m.\u001b[0m\u001b[0m_eval_evalf\u001b[0m\u001b[1;33m(\u001b[0m\u001b[0mprec\u001b[0m\u001b[1;33m)\u001b[0m\u001b[1;33m\u001b[0m\u001b[1;33m\u001b[0m\u001b[0m\n\u001b[0;32m   1372\u001b[0m         \u001b[1;32mif\u001b[0m \u001b[0mxe\u001b[0m \u001b[1;32mis\u001b[0m \u001b[1;32mNone\u001b[0m\u001b[1;33m:\u001b[0m\u001b[1;33m\u001b[0m\u001b[1;33m\u001b[0m\u001b[0m\n",
      "\u001b[1;32m~\\anaconda3\\lib\\site-packages\\sympy\\core\\basic.py\u001b[0m in \u001b[0;36msubs\u001b[1;34m(self, *args, **kwargs)\u001b[0m\n\u001b[0;32m    922\u001b[0m             \u001b[1;31m#\u001b[0m\u001b[1;33m\u001b[0m\u001b[1;33m\u001b[0m\u001b[1;33m\u001b[0m\u001b[0m\n\u001b[0;32m    923\u001b[0m             \u001b[1;31m# For more complex ordering use an unordered sequence.\u001b[0m\u001b[1;33m\u001b[0m\u001b[1;33m\u001b[0m\u001b[1;33m\u001b[0m\u001b[0m\n\u001b[1;32m--> 924\u001b[1;33m             k = list(ordered(sequence, default=False, keys=(\n\u001b[0m\u001b[0;32m    925\u001b[0m                 \u001b[1;32mlambda\u001b[0m \u001b[0mx\u001b[0m\u001b[1;33m:\u001b[0m \u001b[1;33m-\u001b[0m\u001b[0m_nodes\u001b[0m\u001b[1;33m(\u001b[0m\u001b[0mx\u001b[0m\u001b[1;33m)\u001b[0m\u001b[1;33m,\u001b[0m\u001b[1;33m\u001b[0m\u001b[1;33m\u001b[0m\u001b[0m\n\u001b[0;32m    926\u001b[0m                 \u001b[1;32mlambda\u001b[0m \u001b[0mx\u001b[0m\u001b[1;33m:\u001b[0m \u001b[0mdefault_sort_key\u001b[0m\u001b[1;33m(\u001b[0m\u001b[0mx\u001b[0m\u001b[1;33m)\u001b[0m\u001b[1;33m,\u001b[0m\u001b[1;33m\u001b[0m\u001b[1;33m\u001b[0m\u001b[0m\n",
      "\u001b[1;32m~\\anaconda3\\lib\\site-packages\\sympy\\core\\compatibility.py\u001b[0m in \u001b[0;36mordered\u001b[1;34m(seq, keys, default, warn)\u001b[0m\n\u001b[0;32m    602\u001b[0m                     raise ValueError(\n\u001b[0;32m    603\u001b[0m                         'not enough keys to break ties: %s' % u)\n\u001b[1;32m--> 604\u001b[1;33m         \u001b[1;32myield\u001b[0m \u001b[1;32mfrom\u001b[0m \u001b[0md\u001b[0m\u001b[1;33m[\u001b[0m\u001b[0mk\u001b[0m\u001b[1;33m]\u001b[0m\u001b[1;33m\u001b[0m\u001b[1;33m\u001b[0m\u001b[0m\n\u001b[0m\u001b[0;32m    605\u001b[0m         \u001b[0md\u001b[0m\u001b[1;33m.\u001b[0m\u001b[0mpop\u001b[0m\u001b[1;33m(\u001b[0m\u001b[0mk\u001b[0m\u001b[1;33m)\u001b[0m\u001b[1;33m\u001b[0m\u001b[1;33m\u001b[0m\u001b[0m\n\u001b[0;32m    606\u001b[0m \u001b[1;33m\u001b[0m\u001b[0m\n",
      "\u001b[1;32m~\\anaconda3\\lib\\site-packages\\sympy\\core\\compatibility.py\u001b[0m in \u001b[0;36mordered\u001b[1;34m(seq, keys, default, warn)\u001b[0m\n\u001b[0;32m    583\u001b[0m         \u001b[0mf\u001b[0m \u001b[1;33m=\u001b[0m \u001b[0mkeys\u001b[0m\u001b[1;33m.\u001b[0m\u001b[0mpop\u001b[0m\u001b[1;33m(\u001b[0m\u001b[1;36m0\u001b[0m\u001b[1;33m)\u001b[0m\u001b[1;33m\u001b[0m\u001b[1;33m\u001b[0m\u001b[0m\n\u001b[0;32m    584\u001b[0m         \u001b[1;32mfor\u001b[0m \u001b[0ma\u001b[0m \u001b[1;32min\u001b[0m \u001b[0mseq\u001b[0m\u001b[1;33m:\u001b[0m\u001b[1;33m\u001b[0m\u001b[1;33m\u001b[0m\u001b[0m\n\u001b[1;32m--> 585\u001b[1;33m             \u001b[0md\u001b[0m\u001b[1;33m[\u001b[0m\u001b[0mf\u001b[0m\u001b[1;33m(\u001b[0m\u001b[0ma\u001b[0m\u001b[1;33m)\u001b[0m\u001b[1;33m]\u001b[0m\u001b[1;33m.\u001b[0m\u001b[0mappend\u001b[0m\u001b[1;33m(\u001b[0m\u001b[0ma\u001b[0m\u001b[1;33m)\u001b[0m\u001b[1;33m\u001b[0m\u001b[1;33m\u001b[0m\u001b[0m\n\u001b[0m\u001b[0;32m    586\u001b[0m     \u001b[1;32melse\u001b[0m\u001b[1;33m:\u001b[0m\u001b[1;33m\u001b[0m\u001b[1;33m\u001b[0m\u001b[0m\n\u001b[0;32m    587\u001b[0m         \u001b[1;32mif\u001b[0m \u001b[1;32mnot\u001b[0m \u001b[0mdefault\u001b[0m\u001b[1;33m:\u001b[0m\u001b[1;33m\u001b[0m\u001b[1;33m\u001b[0m\u001b[0m\n",
      "\u001b[1;32m~\\anaconda3\\lib\\site-packages\\sympy\\core\\basic.py\u001b[0m in \u001b[0;36m<lambda>\u001b[1;34m(x)\u001b[0m\n\u001b[0;32m    924\u001b[0m             k = list(ordered(sequence, default=False, keys=(\n\u001b[0;32m    925\u001b[0m                 \u001b[1;32mlambda\u001b[0m \u001b[0mx\u001b[0m\u001b[1;33m:\u001b[0m \u001b[1;33m-\u001b[0m\u001b[0m_nodes\u001b[0m\u001b[1;33m(\u001b[0m\u001b[0mx\u001b[0m\u001b[1;33m)\u001b[0m\u001b[1;33m,\u001b[0m\u001b[1;33m\u001b[0m\u001b[1;33m\u001b[0m\u001b[0m\n\u001b[1;32m--> 926\u001b[1;33m                 \u001b[1;32mlambda\u001b[0m \u001b[0mx\u001b[0m\u001b[1;33m:\u001b[0m \u001b[0mdefault_sort_key\u001b[0m\u001b[1;33m(\u001b[0m\u001b[0mx\u001b[0m\u001b[1;33m)\u001b[0m\u001b[1;33m,\u001b[0m\u001b[1;33m\u001b[0m\u001b[1;33m\u001b[0m\u001b[0m\n\u001b[0m\u001b[0;32m    927\u001b[0m                 )))\n\u001b[0;32m    928\u001b[0m             \u001b[0msequence\u001b[0m \u001b[1;33m=\u001b[0m \u001b[1;33m[\u001b[0m\u001b[1;33m(\u001b[0m\u001b[0mk\u001b[0m\u001b[1;33m,\u001b[0m \u001b[0msequence\u001b[0m\u001b[1;33m[\u001b[0m\u001b[0mk\u001b[0m\u001b[1;33m]\u001b[0m\u001b[1;33m)\u001b[0m \u001b[1;32mfor\u001b[0m \u001b[0mk\u001b[0m \u001b[1;32min\u001b[0m \u001b[0mk\u001b[0m\u001b[1;33m]\u001b[0m\u001b[1;33m\u001b[0m\u001b[1;33m\u001b[0m\u001b[0m\n",
      "\u001b[1;32m~\\anaconda3\\lib\\site-packages\\sympy\\core\\compatibility.py\u001b[0m in \u001b[0;36mdefault_sort_key\u001b[1;34m(item, order)\u001b[0m\n\u001b[0;32m    429\u001b[0m     \u001b[1;32mfrom\u001b[0m \u001b[1;33m.\u001b[0m\u001b[0msingleton\u001b[0m \u001b[1;32mimport\u001b[0m \u001b[0mS\u001b[0m\u001b[1;33m\u001b[0m\u001b[1;33m\u001b[0m\u001b[0m\n\u001b[0;32m    430\u001b[0m     \u001b[1;32mfrom\u001b[0m \u001b[1;33m.\u001b[0m\u001b[0mbasic\u001b[0m \u001b[1;32mimport\u001b[0m \u001b[0mBasic\u001b[0m\u001b[1;33m\u001b[0m\u001b[1;33m\u001b[0m\u001b[0m\n\u001b[1;32m--> 431\u001b[1;33m     \u001b[1;32mfrom\u001b[0m \u001b[1;33m.\u001b[0m\u001b[0msympify\u001b[0m \u001b[1;32mimport\u001b[0m \u001b[0msympify\u001b[0m\u001b[1;33m,\u001b[0m \u001b[0mSympifyError\u001b[0m\u001b[1;33m\u001b[0m\u001b[1;33m\u001b[0m\u001b[0m\n\u001b[0m\u001b[0;32m    432\u001b[0m     \u001b[1;32mfrom\u001b[0m \u001b[1;33m.\u001b[0m\u001b[0mcompatibility\u001b[0m \u001b[1;32mimport\u001b[0m \u001b[0miterable\u001b[0m\u001b[1;33m\u001b[0m\u001b[1;33m\u001b[0m\u001b[0m\n\u001b[0;32m    433\u001b[0m \u001b[1;33m\u001b[0m\u001b[0m\n",
      "\u001b[1;31mKeyboardInterrupt\u001b[0m: "
     ]
    }
   ],
   "source": [
    "import numpy as np\n",
    "\n",
    "lv = lotka_volterra()\n",
    "final_time = 50\n",
    "points = 100\n",
    "runs = 10\n",
    "\n",
    "sim = Simulator(lv)\n",
    "\n",
    "x = sim.SSA_simulation(final_time,runs,points,10)\n",
    "#tr = Trajectory(np.linspace(0,.1,20),x,\"Lotka-Volterra\",[\"PY\",\"PT\"])\n",
    "#tr.plot()\n",
    "x.plot()"
   ]
  },
  {
   "cell_type": "markdown",
   "metadata": {},
   "source": [
    "## Stochastic Approximation\n",
    "\n",
    "Consider the PCTMC models defined above and implement the **Mean Field** (MF) and the **Linear Noise approximation** (LNA) of the stochastic evolution of the system.\n",
    "\n",
    "Add the methods *MF_simulation()* and *LN_simulation* in the Simulator class. The overall structure of the solution is already in place, fill the gaps. Some methods in class Model() have to be completed as well. \n",
    "\n",
    "Symbolic representation is a key ingredient for the solution, so look at the Simpy documentation if needed.\n",
    "\n",
    "Plot the deterministic trajectories of the MF approximation and the confidence interval given by the LNS."
   ]
  },
  {
   "cell_type": "code",
   "execution_count": null,
   "metadata": {},
   "outputs": [],
   "source": []
  },
  {
   "cell_type": "code",
   "execution_count": null,
   "metadata": {},
   "outputs": [],
   "source": []
  },
  {
   "cell_type": "code",
   "execution_count": null,
   "metadata": {},
   "outputs": [],
   "source": []
  }
 ],
 "metadata": {
  "kernelspec": {
   "display_name": "Python 3",
   "language": "python",
   "name": "python3"
  },
  "language_info": {
   "codemirror_mode": {
    "name": "ipython",
    "version": 3
   },
   "file_extension": ".py",
   "mimetype": "text/x-python",
   "name": "python",
   "nbconvert_exporter": "python",
   "pygments_lexer": "ipython3",
   "version": "3.8.8"
  }
 },
 "nbformat": 4,
 "nbformat_minor": 4
}
